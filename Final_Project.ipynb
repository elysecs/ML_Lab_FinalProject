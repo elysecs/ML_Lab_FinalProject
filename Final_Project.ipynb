{
  "nbformat": 4,
  "nbformat_minor": 5,
  "metadata": {
    "kernelspec": {
      "display_name": "Python 3",
      "language": "python",
      "name": "python3"
    },
    "language_info": {
      "codemirror_mode": {
        "name": "ipython",
        "version": 3
      },
      "file_extension": ".py",
      "mimetype": "text/x-python",
      "name": "python",
      "nbconvert_exporter": "python",
      "pygments_lexer": "ipython3",
      "version": "3.8.6"
    },
    "colab": {
      "name": "SolarGenPrediction.ipynb",
      "provenance": [],
      "include_colab_link": true
    }
  },
  "cells": [
    {
      "cell_type": "markdown",
      "metadata": {
        "id": "view-in-github",
        "colab_type": "text"
      },
      "source": [
        "<a href=\"https://colab.research.google.com/github/elysecs/ML_Lab_FinalProject/blob/main/Final_Project.ipynb\" target=\"_parent\"><img src=\"https://colab.research.google.com/assets/colab-badge.svg\" alt=\"Open In Colab\"/></a>"
      ]
    },
    {
      "cell_type": "code",
      "metadata": {
        "id": "harmful-vitamin"
      },
      "source": [
        "import numpy as np\n",
        "import pandas as pd\n",
        "import matplotlib.pyplot as plt\n",
        "from sklearn.model_selection import train_test_split, GridSearchCV,RandomizedSearchCV,RepeatedStratifiedKFold\n",
        "from sklearn.linear_model    import *\n",
        "from sklearn.metrics         import *\n",
        "from sklearn.pipeline        import Pipeline\n",
        "from sklearn.preprocessing   import *\n",
        "from sklearn.base      import TransformerMixin, BaseEstimator\n",
        "from sklearn.tree      import *\n",
        "from imblearn          import FunctionSampler\n",
        "from imblearn.pipeline import Pipeline as imbPipeline\n",
        "from   sklearn.compose            import *\n",
        "from   sklearn.ensemble           import *\n",
        "from   sklearn.experimental       import enable_iterative_imputer\n",
        "from   sklearn.impute             import *\n",
        "from sklearn.feature_selection import SelectFromModel\n",
        "import warnings\n",
        "warnings.filterwarnings(\"ignore\")"
      ],
      "id": "harmful-vitamin",
      "execution_count": null,
      "outputs": []
    },
    {
      "cell_type": "code",
      "metadata": {
        "id": "perfect-favorite"
      },
      "source": [
        "df=pd.read_csv('bodega_solar_join.csv')"
      ],
      "id": "perfect-favorite",
      "execution_count": null,
      "outputs": []
    },
    {
      "cell_type": "code",
      "metadata": {
        "id": "confident-translator"
      },
      "source": [
        "X = df.iloc[:,2:]\n",
        "y = df['MWh']"
      ],
      "id": "confident-translator",
      "execution_count": null,
      "outputs": []
    },
    {
      "cell_type": "code",
      "metadata": {
        "id": "retained-embassy"
      },
      "source": [
        "# Remove null rows outside pipeline since target also needs to be transformed\n",
        "def filter_data(X, y):\n",
        "    \"Filter data - remove from both X and y.\"\n",
        "    # Remove rows with null solar radiation feature\n",
        "    X1 = X[X['SOLARAD']!=999]\n",
        "    y1 = y[X['SOLARAD']!=999]\n",
        "    \n",
        "    # Remove rows with \" -9\"\n",
        "    X2 = X1[~((X1.T_HR_AVG.str.contains(' -9')) | (X1.T_MIN.str.contains(' -9')))]\n",
        "    y2 = y1[~((X1.T_HR_AVG.str.contains(' -9')) | (X1.T_MIN.str.contains(' -9')))]\n",
        "    \n",
        "    convert_dict = {'T_HR_AVG': float, \n",
        "            'T_MAX': float,\n",
        "            'T_MIN': float,\n",
        "            'P_CALC': float, \n",
        "            'SOIL_MOISTURE_10': float,\n",
        "            'SOIL_MOISTURE_100': float, \n",
        "            'SOIL_TEMP_5': float,\n",
        "           } \n",
        "  \n",
        "    X3 = X2.astype(convert_dict) \n",
        "    \n",
        "    return X3, y2"
      ],
      "id": "retained-embassy",
      "execution_count": null,
      "outputs": []
    },
    {
      "cell_type": "code",
      "metadata": {
        "id": "known-arrangement"
      },
      "source": [
        "X_filtered, y_filtered = filter_data(X,y)"
      ],
      "id": "known-arrangement",
      "execution_count": null,
      "outputs": []
    },
    {
      "cell_type": "code",
      "metadata": {
        "id": "personalized-devon"
      },
      "source": [
        "X_train_all, X_test, y_train_all, y_test= train_test_split(X_filtered, y_filtered, test_size=.15, random_state=10) \n",
        "X_train, X_validation, y_train, y_validation= train_test_split(X_train_all, y_train_all, test_size=.15, random_state=10)"
      ],
      "id": "personalized-devon",
      "execution_count": null,
      "outputs": []
    },
    {
      "cell_type": "code",
      "metadata": {
        "id": "violent-bundle"
      },
      "source": [
        "algorithms = [ARDRegression(), BayesianRidge(), ElasticNet(), HuberRegressor(), \n",
        " Lars(), Lasso(), LassoLars(), LassoLarsIC(), LinearRegression(),\n",
        " ElasticNet(), OrthogonalMatchingPursuit(), PassiveAggressiveRegressor(), \n",
        " Ridge(), SGDRegressor(), TheilSenRegressor(),RandomForestRegressor(), \n",
        " DecisionTreeRegressor(), ExtraTreeRegressor()]"
      ],
      "id": "violent-bundle",
      "execution_count": null,
      "outputs": []
    },
    {
      "cell_type": "code",
      "metadata": {
        "id": "fallen-triple",
        "outputId": "3b827a9a-ffb0-4948-cc12-7126f54bf0ba"
      },
      "source": [
        "# Initial model search\n",
        "d={}\n",
        "for algo in algorithms:\n",
        "    pipe = Pipeline([('lm',     algo)])\n",
        "\n",
        "    pipe.fit(X_train, y_train)\n",
        "    y_pred = pipe.predict(X_validation)\n",
        "    mae = mean_absolute_error(y_validation, y_pred)\n",
        "    d[algo.__class__.__name__]=mae\n",
        "print(sorted( ((v,k) for k,v in d.items()))[:5])"
      ],
      "id": "fallen-triple",
      "execution_count": null,
      "outputs": [
        {
          "output_type": "execute_result",
          "data": {
            "text/plain": [
              "[(742.3887254901962, 'RandomForestRegressor'),\n",
              " (950.5723622782447, 'DecisionTreeRegressor'),\n",
              " (998.9421101774043, 'ExtraTreeRegressor'),\n",
              " (1440.9002927188478, 'HuberRegressor'),\n",
              " (1603.9098367767551, 'Lars')]"
            ]
          },
          "metadata": {
            "tags": []
          },
          "execution_count": 58
        }
      ]
    },
    {
      "cell_type": "code",
      "metadata": {
        "id": "sixth-offering",
        "outputId": "4759fd29-a6ca-4090-d244-541c42dd54bb"
      },
      "source": [
        "# Suspect collinearity, Look at feature importance\n",
        "# This seems weird, solar should be most important -> codependent features\n",
        "lm = LinearRegression()\n",
        "lm.fit(X_train_all, y_train_all)\n",
        "\n",
        "from rfpimp import * # See https://explained.ai/rf-importance/index.html\n",
        "I = importances(lm, X_train_all, y_train_all)\n",
        "plot_importances(I)"
      ],
      "id": "sixth-offering",
      "execution_count": null,
      "outputs": [
        {
          "output_type": "execute_result",
          "data": {
            "image/svg+xml": "<?xml version=\"1.0\" encoding=\"utf-8\" standalone=\"no\"?>\n<!DOCTYPE svg PUBLIC \"-//W3C//DTD SVG 1.1//EN\"\n  \"http://www.w3.org/Graphics/SVG/1.1/DTD/svg11.dtd\">\n<!-- Created with matplotlib (https://matplotlib.org/) -->\n<svg height=\"169.598125pt\" version=\"1.1\" viewBox=\"0 0 267.167188 169.598125\" width=\"267.167188pt\" xmlns=\"http://www.w3.org/2000/svg\" xmlns:xlink=\"http://www.w3.org/1999/xlink\">\n <metadata>\n  <rdf:RDF xmlns:cc=\"http://creativecommons.org/ns#\" xmlns:dc=\"http://purl.org/dc/elements/1.1/\" xmlns:rdf=\"http://www.w3.org/1999/02/22-rdf-syntax-ns#\">\n   <cc:Work>\n    <dc:type rdf:resource=\"http://purl.org/dc/dcmitype/StillImage\"/>\n    <dc:date>2021-03-11T16:49:09.493753</dc:date>\n    <dc:format>image/svg+xml</dc:format>\n    <dc:creator>\n     <cc:Agent>\n      <dc:title>Matplotlib v3.3.3, https://matplotlib.org/</dc:title>\n     </cc:Agent>\n    </dc:creator>\n   </cc:Work>\n  </rdf:RDF>\n </metadata>\n <defs>\n  <style type=\"text/css\">*{stroke-linecap:butt;stroke-linejoin:round;}</style>\n </defs>\n <g id=\"figure_1\">\n  <g id=\"patch_1\">\n   <path d=\"M 0 169.598125 \nL 267.167188 169.598125 \nL 267.167188 0 \nL 0 0 \nz\n\" style=\"fill:none;\"/>\n  </g>\n  <g id=\"axes_1\">\n   <g id=\"patch_2\">\n    <path d=\"M 111.321875 152.92 \nL 256.034375 152.92 \nL 256.034375 0 \nL 111.321875 0 \nz\n\" style=\"fill:#ffffff;\"/>\n   </g>\n   <g id=\"patch_3\">\n    <path clip-path=\"url(#pd9a4e33826)\" d=\"M 111.725801 1.149774 \nL 255.634302 1.149774 \nL 255.634302 12.647519 \nL 111.725801 12.647519 \nz\n\" style=\"fill:#d9e6f5;stroke:#444443;stroke-linejoin:miter;stroke-width:0.5;\"/>\n   </g>\n   <g id=\"patch_4\">\n    <path clip-path=\"url(#pd9a4e33826)\" d=\"M 111.725801 13.797293 \nL 176.758346 13.797293 \nL 176.758346 25.295038 \nL 111.725801 25.295038 \nz\n\" style=\"fill:#d9e6f5;stroke:#444443;stroke-linejoin:miter;stroke-width:0.5;\"/>\n   </g>\n   <g id=\"patch_5\">\n    <path clip-path=\"url(#pd9a4e33826)\" d=\"M 111.725801 26.444812 \nL 158.118543 26.444812 \nL 158.118543 37.942556 \nL 111.725801 37.942556 \nz\n\" style=\"fill:#d9e6f5;stroke:#444443;stroke-linejoin:miter;stroke-width:0.5;\"/>\n   </g>\n   <g id=\"patch_6\">\n    <path clip-path=\"url(#pd9a4e33826)\" d=\"M 111.725801 39.092331 \nL 149.509945 39.092331 \nL 149.509945 50.590075 \nL 111.725801 50.590075 \nz\n\" style=\"fill:#d9e6f5;stroke:#444443;stroke-linejoin:miter;stroke-width:0.5;\"/>\n   </g>\n   <g id=\"patch_7\">\n    <path clip-path=\"url(#pd9a4e33826)\" d=\"M 111.725801 51.73985 \nL 134.826213 51.73985 \nL 134.826213 63.237594 \nL 111.725801 63.237594 \nz\n\" style=\"fill:#d9e6f5;stroke:#444443;stroke-linejoin:miter;stroke-width:0.5;\"/>\n   </g>\n   <g id=\"patch_8\">\n    <path clip-path=\"url(#pd9a4e33826)\" d=\"M 111.725801 64.387368 \nL 129.402793 64.387368 \nL 129.402793 75.885113 \nL 111.725801 75.885113 \nz\n\" style=\"fill:#d9e6f5;stroke:#444443;stroke-linejoin:miter;stroke-width:0.5;\"/>\n   </g>\n   <g id=\"patch_9\">\n    <path clip-path=\"url(#pd9a4e33826)\" d=\"M 111.725801 77.034887 \nL 115.123697 77.034887 \nL 115.123697 88.532632 \nL 111.725801 88.532632 \nz\n\" style=\"fill:#d9e6f5;stroke:#444443;stroke-linejoin:miter;stroke-width:0.5;\"/>\n   </g>\n   <g id=\"patch_10\">\n    <path clip-path=\"url(#pd9a4e33826)\" d=\"M 111.725801 89.682406 \nL 114.105089 89.682406 \nL 114.105089 101.18015 \nL 111.725801 101.18015 \nz\n\" style=\"fill:#d9e6f5;stroke:#444443;stroke-linejoin:miter;stroke-width:0.5;\"/>\n   </g>\n   <g id=\"patch_11\">\n    <path clip-path=\"url(#pd9a4e33826)\" d=\"M 111.725801 102.329925 \nL 111.865902 102.329925 \nL 111.865902 113.827669 \nL 111.725801 113.827669 \nz\n\" style=\"fill:#d9e6f5;stroke:#444443;stroke-linejoin:miter;stroke-width:0.5;\"/>\n   </g>\n   <g id=\"patch_12\">\n    <path clip-path=\"url(#pd9a4e33826)\" d=\"M 111.725801 114.977444 \nL 111.792526 114.977444 \nL 111.792526 126.475188 \nL 111.725801 126.475188 \nz\n\" style=\"fill:#d9e6f5;stroke:#444443;stroke-linejoin:miter;stroke-width:0.5;\"/>\n   </g>\n   <g id=\"patch_13\">\n    <path clip-path=\"url(#pd9a4e33826)\" d=\"M 111.725801 127.624962 \nL 111.787889 127.624962 \nL 111.787889 139.122707 \nL 111.725801 139.122707 \nz\n\" style=\"fill:#d9e6f5;stroke:#444443;stroke-linejoin:miter;stroke-width:0.5;\"/>\n   </g>\n   <g id=\"patch_14\">\n    <path clip-path=\"url(#pd9a4e33826)\" d=\"M 111.725801 140.272481 \nL 111.721948 140.272481 \nL 111.721948 151.770226 \nL 111.725801 151.770226 \nz\n\" style=\"fill:#d9e6f5;stroke:#444443;stroke-linejoin:miter;stroke-width:0.5;\"/>\n   </g>\n   <g id=\"matplotlib.axis_1\">\n    <g id=\"xtick_1\">\n     <g id=\"line2d_1\">\n      <defs>\n       <path d=\"M 0 0 \nL 0 3.5 \n\" id=\"m64786a9a66\" style=\"stroke:#000000;stroke-width:0.8;\"/>\n      </defs>\n      <g>\n       <use style=\"stroke:#000000;stroke-width:0.8;\" x=\"111.725801\" xlink:href=\"#m64786a9a66\" y=\"152.92\"/>\n      </g>\n     </g>\n     <g id=\"text_1\">\n      <!-- 0.00 -->\n      <g style=\"fill:#444443;\" transform=\"translate(100.592989 167.518438)scale(0.1 -0.1)\">\n       <defs>\n        <path d=\"M 31.78125 66.40625 \nQ 24.171875 66.40625 20.328125 58.90625 \nQ 16.5 51.421875 16.5 36.375 \nQ 16.5 21.390625 20.328125 13.890625 \nQ 24.171875 6.390625 31.78125 6.390625 \nQ 39.453125 6.390625 43.28125 13.890625 \nQ 47.125 21.390625 47.125 36.375 \nQ 47.125 51.421875 43.28125 58.90625 \nQ 39.453125 66.40625 31.78125 66.40625 \nz\nM 31.78125 74.21875 \nQ 44.046875 74.21875 50.515625 64.515625 \nQ 56.984375 54.828125 56.984375 36.375 \nQ 56.984375 17.96875 50.515625 8.265625 \nQ 44.046875 -1.421875 31.78125 -1.421875 \nQ 19.53125 -1.421875 13.0625 8.265625 \nQ 6.59375 17.96875 6.59375 36.375 \nQ 6.59375 54.828125 13.0625 64.515625 \nQ 19.53125 74.21875 31.78125 74.21875 \nz\n\" id=\"DejaVuSans-48\"/>\n        <path d=\"M 10.6875 12.40625 \nL 21 12.40625 \nL 21 0 \nL 10.6875 0 \nz\n\" id=\"DejaVuSans-46\"/>\n       </defs>\n       <use xlink:href=\"#DejaVuSans-48\"/>\n       <use x=\"63.623047\" xlink:href=\"#DejaVuSans-46\"/>\n       <use x=\"95.410156\" xlink:href=\"#DejaVuSans-48\"/>\n       <use x=\"159.033203\" xlink:href=\"#DejaVuSans-48\"/>\n      </g>\n     </g>\n    </g>\n    <g id=\"xtick_2\">\n     <g id=\"line2d_2\">\n      <g>\n       <use style=\"stroke:#000000;stroke-width:0.8;\" x=\"256.034375\" xlink:href=\"#m64786a9a66\" y=\"152.92\"/>\n      </g>\n     </g>\n     <g id=\"text_2\">\n      <!-- 0.72 -->\n      <g style=\"fill:#444443;\" transform=\"translate(244.901563 167.518438)scale(0.1 -0.1)\">\n       <defs>\n        <path d=\"M 8.203125 72.90625 \nL 55.078125 72.90625 \nL 55.078125 68.703125 \nL 28.609375 0 \nL 18.3125 0 \nL 43.21875 64.59375 \nL 8.203125 64.59375 \nz\n\" id=\"DejaVuSans-55\"/>\n        <path d=\"M 19.1875 8.296875 \nL 53.609375 8.296875 \nL 53.609375 0 \nL 7.328125 0 \nL 7.328125 8.296875 \nQ 12.9375 14.109375 22.625 23.890625 \nQ 32.328125 33.6875 34.8125 36.53125 \nQ 39.546875 41.84375 41.421875 45.53125 \nQ 43.3125 49.21875 43.3125 52.78125 \nQ 43.3125 58.59375 39.234375 62.25 \nQ 35.15625 65.921875 28.609375 65.921875 \nQ 23.96875 65.921875 18.8125 64.3125 \nQ 13.671875 62.703125 7.8125 59.421875 \nL 7.8125 69.390625 \nQ 13.765625 71.78125 18.9375 73 \nQ 24.125 74.21875 28.421875 74.21875 \nQ 39.75 74.21875 46.484375 68.546875 \nQ 53.21875 62.890625 53.21875 53.421875 \nQ 53.21875 48.921875 51.53125 44.890625 \nQ 49.859375 40.875 45.40625 35.40625 \nQ 44.1875 33.984375 37.640625 27.21875 \nQ 31.109375 20.453125 19.1875 8.296875 \nz\n\" id=\"DejaVuSans-50\"/>\n       </defs>\n       <use xlink:href=\"#DejaVuSans-48\"/>\n       <use x=\"63.623047\" xlink:href=\"#DejaVuSans-46\"/>\n       <use x=\"95.410156\" xlink:href=\"#DejaVuSans-55\"/>\n       <use x=\"159.033203\" xlink:href=\"#DejaVuSans-50\"/>\n      </g>\n     </g>\n    </g>\n   </g>\n   <g id=\"matplotlib.axis_2\">\n    <g id=\"ytick_1\">\n     <g id=\"line2d_3\">\n      <defs>\n       <path d=\"M 0 0 \nL -3.5 0 \n\" id=\"m8f343ae83b\" style=\"stroke:#000000;stroke-width:0.8;\"/>\n      </defs>\n      <g>\n       <use style=\"stroke:#000000;stroke-width:0.8;\" x=\"111.321875\" xlink:href=\"#m8f343ae83b\" y=\"6.898647\"/>\n      </g>\n     </g>\n     <g id=\"text_3\">\n      <!-- SUR_TEMP -->\n      <g style=\"fill:#444443;\" transform=\"translate(51.621875 10.609584)scale(0.1 -0.1)\">\n       <defs>\n        <path d=\"M 53.515625 70.515625 \nL 53.515625 60.890625 \nQ 47.90625 63.578125 42.921875 64.890625 \nQ 37.9375 66.21875 33.296875 66.21875 \nQ 25.25 66.21875 20.875 63.09375 \nQ 16.5 59.96875 16.5 54.203125 \nQ 16.5 49.359375 19.40625 46.890625 \nQ 22.3125 44.4375 30.421875 42.921875 \nL 36.375 41.703125 \nQ 47.40625 39.59375 52.65625 34.296875 \nQ 57.90625 29 57.90625 20.125 \nQ 57.90625 9.515625 50.796875 4.046875 \nQ 43.703125 -1.421875 29.984375 -1.421875 \nQ 24.8125 -1.421875 18.96875 -0.25 \nQ 13.140625 0.921875 6.890625 3.21875 \nL 6.890625 13.375 \nQ 12.890625 10.015625 18.65625 8.296875 \nQ 24.421875 6.59375 29.984375 6.59375 \nQ 38.421875 6.59375 43.015625 9.90625 \nQ 47.609375 13.234375 47.609375 19.390625 \nQ 47.609375 24.75 44.3125 27.78125 \nQ 41.015625 30.8125 33.5 32.328125 \nL 27.484375 33.5 \nQ 16.453125 35.6875 11.515625 40.375 \nQ 6.59375 45.0625 6.59375 53.421875 \nQ 6.59375 63.09375 13.40625 68.65625 \nQ 20.21875 74.21875 32.171875 74.21875 \nQ 37.3125 74.21875 42.625 73.28125 \nQ 47.953125 72.359375 53.515625 70.515625 \nz\n\" id=\"DejaVuSans-83\"/>\n        <path d=\"M 8.6875 72.90625 \nL 18.609375 72.90625 \nL 18.609375 28.609375 \nQ 18.609375 16.890625 22.84375 11.734375 \nQ 27.09375 6.59375 36.625 6.59375 \nQ 46.09375 6.59375 50.34375 11.734375 \nQ 54.59375 16.890625 54.59375 28.609375 \nL 54.59375 72.90625 \nL 64.5 72.90625 \nL 64.5 27.390625 \nQ 64.5 13.140625 57.4375 5.859375 \nQ 50.390625 -1.421875 36.625 -1.421875 \nQ 22.796875 -1.421875 15.734375 5.859375 \nQ 8.6875 13.140625 8.6875 27.390625 \nz\n\" id=\"DejaVuSans-85\"/>\n        <path d=\"M 44.390625 34.1875 \nQ 47.5625 33.109375 50.5625 29.59375 \nQ 53.5625 26.078125 56.59375 19.921875 \nL 66.609375 0 \nL 56 0 \nL 46.6875 18.703125 \nQ 43.0625 26.03125 39.671875 28.421875 \nQ 36.28125 30.8125 30.421875 30.8125 \nL 19.671875 30.8125 \nL 19.671875 0 \nL 9.8125 0 \nL 9.8125 72.90625 \nL 32.078125 72.90625 \nQ 44.578125 72.90625 50.734375 67.671875 \nQ 56.890625 62.453125 56.890625 51.90625 \nQ 56.890625 45.015625 53.6875 40.46875 \nQ 50.484375 35.9375 44.390625 34.1875 \nz\nM 19.671875 64.796875 \nL 19.671875 38.921875 \nL 32.078125 38.921875 \nQ 39.203125 38.921875 42.84375 42.21875 \nQ 46.484375 45.515625 46.484375 51.90625 \nQ 46.484375 58.296875 42.84375 61.546875 \nQ 39.203125 64.796875 32.078125 64.796875 \nz\n\" id=\"DejaVuSans-82\"/>\n        <path d=\"M 50.984375 -16.609375 \nL 50.984375 -23.578125 \nL -0.984375 -23.578125 \nL -0.984375 -16.609375 \nz\n\" id=\"DejaVuSans-95\"/>\n        <path d=\"M -0.296875 72.90625 \nL 61.375 72.90625 \nL 61.375 64.59375 \nL 35.5 64.59375 \nL 35.5 0 \nL 25.59375 0 \nL 25.59375 64.59375 \nL -0.296875 64.59375 \nz\n\" id=\"DejaVuSans-84\"/>\n        <path d=\"M 9.8125 72.90625 \nL 55.90625 72.90625 \nL 55.90625 64.59375 \nL 19.671875 64.59375 \nL 19.671875 43.015625 \nL 54.390625 43.015625 \nL 54.390625 34.71875 \nL 19.671875 34.71875 \nL 19.671875 8.296875 \nL 56.78125 8.296875 \nL 56.78125 0 \nL 9.8125 0 \nz\n\" id=\"DejaVuSans-69\"/>\n        <path d=\"M 9.8125 72.90625 \nL 24.515625 72.90625 \nL 43.109375 23.296875 \nL 61.8125 72.90625 \nL 76.515625 72.90625 \nL 76.515625 0 \nL 66.890625 0 \nL 66.890625 64.015625 \nL 48.09375 14.015625 \nL 38.1875 14.015625 \nL 19.390625 64.015625 \nL 19.390625 0 \nL 9.8125 0 \nz\n\" id=\"DejaVuSans-77\"/>\n        <path d=\"M 19.671875 64.796875 \nL 19.671875 37.40625 \nL 32.078125 37.40625 \nQ 38.96875 37.40625 42.71875 40.96875 \nQ 46.484375 44.53125 46.484375 51.125 \nQ 46.484375 57.671875 42.71875 61.234375 \nQ 38.96875 64.796875 32.078125 64.796875 \nz\nM 9.8125 72.90625 \nL 32.078125 72.90625 \nQ 44.34375 72.90625 50.609375 67.359375 \nQ 56.890625 61.8125 56.890625 51.125 \nQ 56.890625 40.328125 50.609375 34.8125 \nQ 44.34375 29.296875 32.078125 29.296875 \nL 19.671875 29.296875 \nL 19.671875 0 \nL 9.8125 0 \nz\n\" id=\"DejaVuSans-80\"/>\n       </defs>\n       <use xlink:href=\"#DejaVuSans-83\"/>\n       <use x=\"63.476562\" xlink:href=\"#DejaVuSans-85\"/>\n       <use x=\"136.669922\" xlink:href=\"#DejaVuSans-82\"/>\n       <use x=\"206.152344\" xlink:href=\"#DejaVuSans-95\"/>\n       <use x=\"256.152344\" xlink:href=\"#DejaVuSans-84\"/>\n       <use x=\"317.236328\" xlink:href=\"#DejaVuSans-69\"/>\n       <use x=\"380.419922\" xlink:href=\"#DejaVuSans-77\"/>\n       <use x=\"466.699219\" xlink:href=\"#DejaVuSans-80\"/>\n      </g>\n     </g>\n    </g>\n    <g id=\"ytick_2\">\n     <g id=\"line2d_4\">\n      <g>\n       <use style=\"stroke:#000000;stroke-width:0.8;\" x=\"111.321875\" xlink:href=\"#m8f343ae83b\" y=\"19.546165\"/>\n      </g>\n     </g>\n     <g id=\"text_4\">\n      <!-- SOIL_TEMP_5 -->\n      <g style=\"fill:#444443;\" transform=\"translate(38.132812 23.257103)scale(0.1 -0.1)\">\n       <defs>\n        <path d=\"M 39.40625 66.21875 \nQ 28.65625 66.21875 22.328125 58.203125 \nQ 16.015625 50.203125 16.015625 36.375 \nQ 16.015625 22.609375 22.328125 14.59375 \nQ 28.65625 6.59375 39.40625 6.59375 \nQ 50.140625 6.59375 56.421875 14.59375 \nQ 62.703125 22.609375 62.703125 36.375 \nQ 62.703125 50.203125 56.421875 58.203125 \nQ 50.140625 66.21875 39.40625 66.21875 \nz\nM 39.40625 74.21875 \nQ 54.734375 74.21875 63.90625 63.9375 \nQ 73.09375 53.65625 73.09375 36.375 \nQ 73.09375 19.140625 63.90625 8.859375 \nQ 54.734375 -1.421875 39.40625 -1.421875 \nQ 24.03125 -1.421875 14.8125 8.828125 \nQ 5.609375 19.09375 5.609375 36.375 \nQ 5.609375 53.65625 14.8125 63.9375 \nQ 24.03125 74.21875 39.40625 74.21875 \nz\n\" id=\"DejaVuSans-79\"/>\n        <path d=\"M 9.8125 72.90625 \nL 19.671875 72.90625 \nL 19.671875 0 \nL 9.8125 0 \nz\n\" id=\"DejaVuSans-73\"/>\n        <path d=\"M 9.8125 72.90625 \nL 19.671875 72.90625 \nL 19.671875 8.296875 \nL 55.171875 8.296875 \nL 55.171875 0 \nL 9.8125 0 \nz\n\" id=\"DejaVuSans-76\"/>\n        <path d=\"M 10.796875 72.90625 \nL 49.515625 72.90625 \nL 49.515625 64.59375 \nL 19.828125 64.59375 \nL 19.828125 46.734375 \nQ 21.96875 47.46875 24.109375 47.828125 \nQ 26.265625 48.1875 28.421875 48.1875 \nQ 40.625 48.1875 47.75 41.5 \nQ 54.890625 34.8125 54.890625 23.390625 \nQ 54.890625 11.625 47.5625 5.09375 \nQ 40.234375 -1.421875 26.90625 -1.421875 \nQ 22.3125 -1.421875 17.546875 -0.640625 \nQ 12.796875 0.140625 7.71875 1.703125 \nL 7.71875 11.625 \nQ 12.109375 9.234375 16.796875 8.0625 \nQ 21.484375 6.890625 26.703125 6.890625 \nQ 35.15625 6.890625 40.078125 11.328125 \nQ 45.015625 15.765625 45.015625 23.390625 \nQ 45.015625 31 40.078125 35.4375 \nQ 35.15625 39.890625 26.703125 39.890625 \nQ 22.75 39.890625 18.8125 39.015625 \nQ 14.890625 38.140625 10.796875 36.28125 \nz\n\" id=\"DejaVuSans-53\"/>\n       </defs>\n       <use xlink:href=\"#DejaVuSans-83\"/>\n       <use x=\"63.476562\" xlink:href=\"#DejaVuSans-79\"/>\n       <use x=\"142.1875\" xlink:href=\"#DejaVuSans-73\"/>\n       <use x=\"171.679688\" xlink:href=\"#DejaVuSans-76\"/>\n       <use x=\"227.392578\" xlink:href=\"#DejaVuSans-95\"/>\n       <use x=\"277.392578\" xlink:href=\"#DejaVuSans-84\"/>\n       <use x=\"338.476562\" xlink:href=\"#DejaVuSans-69\"/>\n       <use x=\"401.660156\" xlink:href=\"#DejaVuSans-77\"/>\n       <use x=\"487.939453\" xlink:href=\"#DejaVuSans-80\"/>\n       <use x=\"548.242188\" xlink:href=\"#DejaVuSans-95\"/>\n       <use x=\"598.242188\" xlink:href=\"#DejaVuSans-53\"/>\n      </g>\n     </g>\n    </g>\n    <g id=\"ytick_3\">\n     <g id=\"line2d_5\">\n      <g>\n       <use style=\"stroke:#000000;stroke-width:0.8;\" x=\"111.321875\" xlink:href=\"#m8f343ae83b\" y=\"32.193684\"/>\n      </g>\n     </g>\n     <g id=\"text_5\">\n      <!-- SOIL_TEMP_100 -->\n      <g style=\"fill:#444443;\" transform=\"translate(25.407813 35.904622)scale(0.1 -0.1)\">\n       <defs>\n        <path d=\"M 12.40625 8.296875 \nL 28.515625 8.296875 \nL 28.515625 63.921875 \nL 10.984375 60.40625 \nL 10.984375 69.390625 \nL 28.421875 72.90625 \nL 38.28125 72.90625 \nL 38.28125 8.296875 \nL 54.390625 8.296875 \nL 54.390625 0 \nL 12.40625 0 \nz\n\" id=\"DejaVuSans-49\"/>\n       </defs>\n       <use xlink:href=\"#DejaVuSans-83\"/>\n       <use x=\"63.476562\" xlink:href=\"#DejaVuSans-79\"/>\n       <use x=\"142.1875\" xlink:href=\"#DejaVuSans-73\"/>\n       <use x=\"171.679688\" xlink:href=\"#DejaVuSans-76\"/>\n       <use x=\"227.392578\" xlink:href=\"#DejaVuSans-95\"/>\n       <use x=\"277.392578\" xlink:href=\"#DejaVuSans-84\"/>\n       <use x=\"338.476562\" xlink:href=\"#DejaVuSans-69\"/>\n       <use x=\"401.660156\" xlink:href=\"#DejaVuSans-77\"/>\n       <use x=\"487.939453\" xlink:href=\"#DejaVuSans-80\"/>\n       <use x=\"548.242188\" xlink:href=\"#DejaVuSans-95\"/>\n       <use x=\"598.242188\" xlink:href=\"#DejaVuSans-49\"/>\n       <use x=\"661.865234\" xlink:href=\"#DejaVuSans-48\"/>\n       <use x=\"725.488281\" xlink:href=\"#DejaVuSans-48\"/>\n      </g>\n     </g>\n    </g>\n    <g id=\"ytick_4\">\n     <g id=\"line2d_6\">\n      <g>\n       <use style=\"stroke:#000000;stroke-width:0.8;\" x=\"111.321875\" xlink:href=\"#m8f343ae83b\" y=\"44.841203\"/>\n      </g>\n     </g>\n     <g id=\"text_6\">\n      <!-- SOLARAD_MAX -->\n      <g style=\"fill:#444443;\" transform=\"translate(29.05625 48.552141)scale(0.1 -0.1)\">\n       <defs>\n        <path d=\"M 34.1875 63.1875 \nL 20.796875 26.90625 \nL 47.609375 26.90625 \nz\nM 28.609375 72.90625 \nL 39.796875 72.90625 \nL 67.578125 0 \nL 57.328125 0 \nL 50.6875 18.703125 \nL 17.828125 18.703125 \nL 11.1875 0 \nL 0.78125 0 \nz\n\" id=\"DejaVuSans-65\"/>\n        <path d=\"M 19.671875 64.796875 \nL 19.671875 8.109375 \nL 31.59375 8.109375 \nQ 46.6875 8.109375 53.6875 14.9375 \nQ 60.6875 21.78125 60.6875 36.53125 \nQ 60.6875 51.171875 53.6875 57.984375 \nQ 46.6875 64.796875 31.59375 64.796875 \nz\nM 9.8125 72.90625 \nL 30.078125 72.90625 \nQ 51.265625 72.90625 61.171875 64.09375 \nQ 71.09375 55.28125 71.09375 36.53125 \nQ 71.09375 17.671875 61.125 8.828125 \nQ 51.171875 0 30.078125 0 \nL 9.8125 0 \nz\n\" id=\"DejaVuSans-68\"/>\n        <path d=\"M 6.296875 72.90625 \nL 16.890625 72.90625 \nL 35.015625 45.796875 \nL 53.21875 72.90625 \nL 63.8125 72.90625 \nL 40.375 37.890625 \nL 65.375 0 \nL 54.78125 0 \nL 34.28125 31 \nL 13.625 0 \nL 2.984375 0 \nL 29 38.921875 \nz\n\" id=\"DejaVuSans-88\"/>\n       </defs>\n       <use xlink:href=\"#DejaVuSans-83\"/>\n       <use x=\"63.476562\" xlink:href=\"#DejaVuSans-79\"/>\n       <use x=\"142.1875\" xlink:href=\"#DejaVuSans-76\"/>\n       <use x=\"200.150391\" xlink:href=\"#DejaVuSans-65\"/>\n       <use x=\"268.558594\" xlink:href=\"#DejaVuSans-82\"/>\n       <use x=\"334.041016\" xlink:href=\"#DejaVuSans-65\"/>\n       <use x=\"402.449219\" xlink:href=\"#DejaVuSans-68\"/>\n       <use x=\"479.451172\" xlink:href=\"#DejaVuSans-95\"/>\n       <use x=\"529.451172\" xlink:href=\"#DejaVuSans-77\"/>\n       <use x=\"615.730469\" xlink:href=\"#DejaVuSans-65\"/>\n       <use x=\"684.138672\" xlink:href=\"#DejaVuSans-88\"/>\n      </g>\n     </g>\n    </g>\n    <g id=\"ytick_5\">\n     <g id=\"line2d_7\">\n      <g>\n       <use style=\"stroke:#000000;stroke-width:0.8;\" x=\"111.321875\" xlink:href=\"#m8f343ae83b\" y=\"57.488722\"/>\n      </g>\n     </g>\n     <g id=\"text_7\">\n      <!-- T_MIN -->\n      <g style=\"fill:#444443;\" transform=\"translate(74.154688 61.148878)scale(0.1 -0.1)\">\n       <defs>\n        <path d=\"M 9.8125 72.90625 \nL 23.09375 72.90625 \nL 55.421875 11.921875 \nL 55.421875 72.90625 \nL 64.984375 72.90625 \nL 64.984375 0 \nL 51.703125 0 \nL 19.390625 60.984375 \nL 19.390625 0 \nL 9.8125 0 \nz\n\" id=\"DejaVuSans-78\"/>\n       </defs>\n       <use xlink:href=\"#DejaVuSans-84\"/>\n       <use x=\"61.083984\" xlink:href=\"#DejaVuSans-95\"/>\n       <use x=\"111.083984\" xlink:href=\"#DejaVuSans-77\"/>\n       <use x=\"197.363281\" xlink:href=\"#DejaVuSans-73\"/>\n       <use x=\"226.855469\" xlink:href=\"#DejaVuSans-78\"/>\n      </g>\n     </g>\n    </g>\n    <g id=\"ytick_6\">\n     <g id=\"line2d_8\">\n      <g>\n       <use style=\"stroke:#000000;stroke-width:0.8;\" x=\"111.321875\" xlink:href=\"#m8f343ae83b\" y=\"70.136241\"/>\n      </g>\n     </g>\n     <g id=\"text_8\">\n      <!-- SOLARAD -->\n      <g style=\"fill:#444443;\" transform=\"translate(56.375 73.935459)scale(0.1 -0.1)\">\n       <use xlink:href=\"#DejaVuSans-83\"/>\n       <use x=\"63.476562\" xlink:href=\"#DejaVuSans-79\"/>\n       <use x=\"142.1875\" xlink:href=\"#DejaVuSans-76\"/>\n       <use x=\"200.150391\" xlink:href=\"#DejaVuSans-65\"/>\n       <use x=\"268.558594\" xlink:href=\"#DejaVuSans-82\"/>\n       <use x=\"334.041016\" xlink:href=\"#DejaVuSans-65\"/>\n       <use x=\"402.449219\" xlink:href=\"#DejaVuSans-68\"/>\n      </g>\n     </g>\n    </g>\n    <g id=\"ytick_7\">\n     <g id=\"line2d_9\">\n      <g>\n       <use style=\"stroke:#000000;stroke-width:0.8;\" x=\"111.321875\" xlink:href=\"#m8f343ae83b\" y=\"82.783759\"/>\n      </g>\n     </g>\n     <g id=\"text_9\">\n      <!-- T_MAX -->\n      <g style=\"fill:#444443;\" transform=\"translate(70.895313 86.443916)scale(0.1 -0.1)\">\n       <use xlink:href=\"#DejaVuSans-84\"/>\n       <use x=\"61.083984\" xlink:href=\"#DejaVuSans-95\"/>\n       <use x=\"111.083984\" xlink:href=\"#DejaVuSans-77\"/>\n       <use x=\"197.363281\" xlink:href=\"#DejaVuSans-65\"/>\n       <use x=\"265.771484\" xlink:href=\"#DejaVuSans-88\"/>\n      </g>\n     </g>\n    </g>\n    <g id=\"ytick_8\">\n     <g id=\"line2d_10\">\n      <g>\n       <use style=\"stroke:#000000;stroke-width:0.8;\" x=\"111.321875\" xlink:href=\"#m8f343ae83b\" y=\"95.431278\"/>\n      </g>\n     </g>\n     <g id=\"text_10\">\n      <!-- SOIL_MOISTURE_100 -->\n      <g style=\"fill:#444443;\" transform=\"translate(0 99.142216)scale(0.1 -0.1)\">\n       <use xlink:href=\"#DejaVuSans-83\"/>\n       <use x=\"63.476562\" xlink:href=\"#DejaVuSans-79\"/>\n       <use x=\"142.1875\" xlink:href=\"#DejaVuSans-73\"/>\n       <use x=\"171.679688\" xlink:href=\"#DejaVuSans-76\"/>\n       <use x=\"227.392578\" xlink:href=\"#DejaVuSans-95\"/>\n       <use x=\"277.392578\" xlink:href=\"#DejaVuSans-77\"/>\n       <use x=\"363.671875\" xlink:href=\"#DejaVuSans-79\"/>\n       <use x=\"442.382812\" xlink:href=\"#DejaVuSans-73\"/>\n       <use x=\"471.875\" xlink:href=\"#DejaVuSans-83\"/>\n       <use x=\"535.351562\" xlink:href=\"#DejaVuSans-84\"/>\n       <use x=\"596.435547\" xlink:href=\"#DejaVuSans-85\"/>\n       <use x=\"669.628906\" xlink:href=\"#DejaVuSans-82\"/>\n       <use x=\"739.111328\" xlink:href=\"#DejaVuSans-69\"/>\n       <use x=\"802.294922\" xlink:href=\"#DejaVuSans-95\"/>\n       <use x=\"852.294922\" xlink:href=\"#DejaVuSans-49\"/>\n       <use x=\"915.917969\" xlink:href=\"#DejaVuSans-48\"/>\n       <use x=\"979.541016\" xlink:href=\"#DejaVuSans-48\"/>\n      </g>\n     </g>\n    </g>\n    <g id=\"ytick_9\">\n     <g id=\"line2d_11\">\n      <g>\n       <use style=\"stroke:#000000;stroke-width:0.8;\" x=\"111.321875\" xlink:href=\"#m8f343ae83b\" y=\"108.078797\"/>\n      </g>\n     </g>\n     <g id=\"text_11\">\n      <!-- P_CALC -->\n      <g style=\"fill:#444443;\" transform=\"translate(66.914062 111.789734)scale(0.1 -0.1)\">\n       <defs>\n        <path d=\"M 64.40625 67.28125 \nL 64.40625 56.890625 \nQ 59.421875 61.53125 53.78125 63.8125 \nQ 48.140625 66.109375 41.796875 66.109375 \nQ 29.296875 66.109375 22.65625 58.46875 \nQ 16.015625 50.828125 16.015625 36.375 \nQ 16.015625 21.96875 22.65625 14.328125 \nQ 29.296875 6.6875 41.796875 6.6875 \nQ 48.140625 6.6875 53.78125 8.984375 \nQ 59.421875 11.28125 64.40625 15.921875 \nL 64.40625 5.609375 \nQ 59.234375 2.09375 53.4375 0.328125 \nQ 47.65625 -1.421875 41.21875 -1.421875 \nQ 24.65625 -1.421875 15.125 8.703125 \nQ 5.609375 18.84375 5.609375 36.375 \nQ 5.609375 53.953125 15.125 64.078125 \nQ 24.65625 74.21875 41.21875 74.21875 \nQ 47.75 74.21875 53.53125 72.484375 \nQ 59.328125 70.75 64.40625 67.28125 \nz\n\" id=\"DejaVuSans-67\"/>\n       </defs>\n       <use xlink:href=\"#DejaVuSans-80\"/>\n       <use x=\"60.302734\" xlink:href=\"#DejaVuSans-95\"/>\n       <use x=\"110.302734\" xlink:href=\"#DejaVuSans-67\"/>\n       <use x=\"180.126953\" xlink:href=\"#DejaVuSans-65\"/>\n       <use x=\"248.535156\" xlink:href=\"#DejaVuSans-76\"/>\n       <use x=\"304.248047\" xlink:href=\"#DejaVuSans-67\"/>\n      </g>\n     </g>\n    </g>\n    <g id=\"ytick_10\">\n     <g id=\"line2d_12\">\n      <g>\n       <use style=\"stroke:#000000;stroke-width:0.8;\" x=\"111.321875\" xlink:href=\"#m8f343ae83b\" y=\"120.726316\"/>\n      </g>\n     </g>\n     <g id=\"text_12\">\n      <!-- T_HR_AVG -->\n      <g style=\"fill:#444443;\" transform=\"translate(52.953125 124.437253)scale(0.1 -0.1)\">\n       <defs>\n        <path d=\"M 9.8125 72.90625 \nL 19.671875 72.90625 \nL 19.671875 43.015625 \nL 55.515625 43.015625 \nL 55.515625 72.90625 \nL 65.375 72.90625 \nL 65.375 0 \nL 55.515625 0 \nL 55.515625 34.71875 \nL 19.671875 34.71875 \nL 19.671875 0 \nL 9.8125 0 \nz\n\" id=\"DejaVuSans-72\"/>\n        <path d=\"M 28.609375 0 \nL 0.78125 72.90625 \nL 11.078125 72.90625 \nL 34.1875 11.53125 \nL 57.328125 72.90625 \nL 67.578125 72.90625 \nL 39.796875 0 \nz\n\" id=\"DejaVuSans-86\"/>\n        <path d=\"M 59.515625 10.40625 \nL 59.515625 29.984375 \nL 43.40625 29.984375 \nL 43.40625 38.09375 \nL 69.28125 38.09375 \nL 69.28125 6.78125 \nQ 63.578125 2.734375 56.6875 0.65625 \nQ 49.8125 -1.421875 42 -1.421875 \nQ 24.90625 -1.421875 15.25 8.5625 \nQ 5.609375 18.5625 5.609375 36.375 \nQ 5.609375 54.25 15.25 64.234375 \nQ 24.90625 74.21875 42 74.21875 \nQ 49.125 74.21875 55.546875 72.453125 \nQ 61.96875 70.703125 67.390625 67.28125 \nL 67.390625 56.78125 \nQ 61.921875 61.421875 55.765625 63.765625 \nQ 49.609375 66.109375 42.828125 66.109375 \nQ 29.4375 66.109375 22.71875 58.640625 \nQ 16.015625 51.171875 16.015625 36.375 \nQ 16.015625 21.625 22.71875 14.15625 \nQ 29.4375 6.6875 42.828125 6.6875 \nQ 48.046875 6.6875 52.140625 7.59375 \nQ 56.25 8.5 59.515625 10.40625 \nz\n\" id=\"DejaVuSans-71\"/>\n       </defs>\n       <use xlink:href=\"#DejaVuSans-84\"/>\n       <use x=\"61.083984\" xlink:href=\"#DejaVuSans-95\"/>\n       <use x=\"111.083984\" xlink:href=\"#DejaVuSans-72\"/>\n       <use x=\"186.279297\" xlink:href=\"#DejaVuSans-82\"/>\n       <use x=\"255.761719\" xlink:href=\"#DejaVuSans-95\"/>\n       <use x=\"305.761719\" xlink:href=\"#DejaVuSans-65\"/>\n       <use x=\"367.794922\" xlink:href=\"#DejaVuSans-86\"/>\n       <use x=\"436.203125\" xlink:href=\"#DejaVuSans-71\"/>\n      </g>\n     </g>\n    </g>\n    <g id=\"ytick_11\">\n     <g id=\"line2d_13\">\n      <g>\n       <use style=\"stroke:#000000;stroke-width:0.8;\" x=\"111.321875\" xlink:href=\"#m8f343ae83b\" y=\"133.373835\"/>\n      </g>\n     </g>\n     <g id=\"text_13\">\n      <!-- RH_HR_AVG -->\n      <g style=\"fill:#444443;\" transform=\"translate(44.592188 137.084772)scale(0.1 -0.1)\">\n       <use xlink:href=\"#DejaVuSans-82\"/>\n       <use x=\"69.482422\" xlink:href=\"#DejaVuSans-72\"/>\n       <use x=\"144.677734\" xlink:href=\"#DejaVuSans-95\"/>\n       <use x=\"194.677734\" xlink:href=\"#DejaVuSans-72\"/>\n       <use x=\"269.873047\" xlink:href=\"#DejaVuSans-82\"/>\n       <use x=\"339.355469\" xlink:href=\"#DejaVuSans-95\"/>\n       <use x=\"389.355469\" xlink:href=\"#DejaVuSans-65\"/>\n       <use x=\"451.388672\" xlink:href=\"#DejaVuSans-86\"/>\n       <use x=\"519.796875\" xlink:href=\"#DejaVuSans-71\"/>\n      </g>\n     </g>\n    </g>\n    <g id=\"ytick_12\">\n     <g id=\"line2d_14\">\n      <g>\n       <use style=\"stroke:#000000;stroke-width:0.8;\" x=\"111.321875\" xlink:href=\"#m8f343ae83b\" y=\"146.021353\"/>\n      </g>\n     </g>\n     <g id=\"text_14\">\n      <!-- SOIL_MOISTURE_10 -->\n      <g style=\"fill:#444443;\" transform=\"translate(6.3625 149.732291)scale(0.1 -0.1)\">\n       <use xlink:href=\"#DejaVuSans-83\"/>\n       <use x=\"63.476562\" xlink:href=\"#DejaVuSans-79\"/>\n       <use x=\"142.1875\" xlink:href=\"#DejaVuSans-73\"/>\n       <use x=\"171.679688\" xlink:href=\"#DejaVuSans-76\"/>\n       <use x=\"227.392578\" xlink:href=\"#DejaVuSans-95\"/>\n       <use x=\"277.392578\" xlink:href=\"#DejaVuSans-77\"/>\n       <use x=\"363.671875\" xlink:href=\"#DejaVuSans-79\"/>\n       <use x=\"442.382812\" xlink:href=\"#DejaVuSans-73\"/>\n       <use x=\"471.875\" xlink:href=\"#DejaVuSans-83\"/>\n       <use x=\"535.351562\" xlink:href=\"#DejaVuSans-84\"/>\n       <use x=\"596.435547\" xlink:href=\"#DejaVuSans-85\"/>\n       <use x=\"669.628906\" xlink:href=\"#DejaVuSans-82\"/>\n       <use x=\"739.111328\" xlink:href=\"#DejaVuSans-69\"/>\n       <use x=\"802.294922\" xlink:href=\"#DejaVuSans-95\"/>\n       <use x=\"852.294922\" xlink:href=\"#DejaVuSans-49\"/>\n       <use x=\"915.917969\" xlink:href=\"#DejaVuSans-48\"/>\n      </g>\n     </g>\n    </g>\n   </g>\n   <g id=\"patch_15\">\n    <path d=\"M 111.321875 152.92 \nL 111.321875 0 \n\" style=\"fill:none;stroke:#000000;stroke-linecap:square;stroke-linejoin:miter;stroke-width:0.3;\"/>\n   </g>\n   <g id=\"patch_16\">\n    <path d=\"M 256.034375 152.92 \nL 256.034375 0 \n\" style=\"fill:none;stroke:#000000;stroke-linecap:square;stroke-linejoin:miter;stroke-width:0.3;\"/>\n   </g>\n   <g id=\"patch_17\">\n    <path d=\"M 111.321875 152.92 \nL 256.034375 152.92 \n\" style=\"fill:none;stroke:#000000;stroke-linecap:square;stroke-linejoin:miter;stroke-width:0.3;\"/>\n   </g>\n   <g id=\"patch_18\">\n    <path d=\"M 111.321875 0 \nL 256.034375 0 \n\" style=\"fill:none;stroke:#000000;stroke-linecap:square;stroke-linejoin:miter;stroke-width:0.3;\"/>\n   </g>\n  </g>\n </g>\n <defs>\n  <clipPath id=\"pd9a4e33826\">\n   <rect height=\"152.92\" width=\"144.7125\" x=\"111.321875\" y=\"0\"/>\n  </clipPath>\n </defs>\n</svg>\n",
            "text/plain": [
              "<rfpimp.PimpViz at 0x7fb1e0237ca0>"
            ]
          },
          "metadata": {
            "tags": []
          },
          "execution_count": 11
        }
      ]
    },
    {
      "cell_type": "code",
      "metadata": {
        "id": "specific-relationship",
        "outputId": "bde7a587-dfb2-4b4b-daec-a661f300f6c9"
      },
      "source": [
        "# Feature importance all variables\n",
        "clf = RandomForestRegressor(n_estimators=50)\n",
        "clf = clf.fit(X_train_all, y_train_all)\n",
        "for col, imp in zip(X_train.columns,clf.feature_importances_):\n",
        "    print(f'{col:<20} - {round(imp,3):^10}')"
      ],
      "id": "specific-relationship",
      "execution_count": null,
      "outputs": [
        {
          "output_type": "stream",
          "text": [
            "T_HR_AVG             -   0.005   \n",
            "T_MAX                -   0.007   \n",
            "T_MIN                -   0.008   \n",
            "P_CALC               -   0.003   \n",
            "SOLARAD              -   0.818   \n",
            "SOLARAD_MAX          -   0.021   \n",
            "SUR_TEMP             -   0.026   \n",
            "RH_HR_AVG            -   0.041   \n",
            "SOIL_MOISTURE_10     -   0.012   \n",
            "SOIL_MOISTURE_100    -   0.008   \n",
            "SOIL_TEMP_5          -   0.031   \n",
            "SOIL_TEMP_100        -    0.02   \n"
          ],
          "name": "stdout"
        }
      ]
    },
    {
      "cell_type": "code",
      "metadata": {
        "id": "intermediate-rental"
      },
      "source": [
        "# Remove extraneous features\n",
        "non_corr_vars = ['SOLARAD', 'SUR_TEMP', 'T_HR_AVG','RH_HR_AVG','SOIL_MOISTURE_10','P_CALC']"
      ],
      "id": "intermediate-rental",
      "execution_count": null,
      "outputs": []
    },
    {
      "cell_type": "code",
      "metadata": {
        "id": "automated-desert",
        "outputId": "a0f53e32-6691-4c27-da7c-2a64aa8cdfb9"
      },
      "source": [
        "# Remove soil moisture and precipitation variables\n",
        "lm = LinearRegression()\n",
        "lm.fit(X_train_all[non_corr_vars], y_train_all)\n",
        "\n",
        "from rfpimp import * # See https://explained.ai/rf-importance/index.html\n",
        "I = importances(lm, X_train_all[non_corr_vars], y_train_all)\n",
        "plot_importances(I)"
      ],
      "id": "automated-desert",
      "execution_count": null,
      "outputs": [
        {
          "output_type": "execute_result",
          "data": {
            "image/svg+xml": "<?xml version=\"1.0\" encoding=\"utf-8\" standalone=\"no\"?>\n<!DOCTYPE svg PUBLIC \"-//W3C//DTD SVG 1.1//EN\"\n  \"http://www.w3.org/Graphics/SVG/1.1/DTD/svg11.dtd\">\n<!-- Created with matplotlib (https://matplotlib.org/) -->\n<svg height=\"86.078125pt\" version=\"1.1\" viewBox=\"0 0 267.179688 86.078125\" width=\"267.179688pt\" xmlns=\"http://www.w3.org/2000/svg\" xmlns:xlink=\"http://www.w3.org/1999/xlink\">\n <metadata>\n  <rdf:RDF xmlns:cc=\"http://creativecommons.org/ns#\" xmlns:dc=\"http://purl.org/dc/elements/1.1/\" xmlns:rdf=\"http://www.w3.org/1999/02/22-rdf-syntax-ns#\">\n   <cc:Work>\n    <dc:type rdf:resource=\"http://purl.org/dc/dcmitype/StillImage\"/>\n    <dc:date>2021-03-11T23:36:05.791117</dc:date>\n    <dc:format>image/svg+xml</dc:format>\n    <dc:creator>\n     <cc:Agent>\n      <dc:title>Matplotlib v3.3.3, https://matplotlib.org/</dc:title>\n     </cc:Agent>\n    </dc:creator>\n   </cc:Work>\n  </rdf:RDF>\n </metadata>\n <defs>\n  <style type=\"text/css\">*{stroke-linecap:butt;stroke-linejoin:round;}</style>\n </defs>\n <g id=\"figure_1\">\n  <g id=\"patch_1\">\n   <path d=\"M 0 86.078125 \nL 267.179688 86.078125 \nL 267.179688 0 \nL 0 0 \nz\n\" style=\"fill:none;\"/>\n  </g>\n  <g id=\"axes_1\">\n   <g id=\"patch_2\">\n    <path d=\"M 104.959375 69.4 \nL 256.046875 69.4 \nL 256.046875 0 \nL 104.959375 0 \nz\n\" style=\"fill:#ffffff;\"/>\n   </g>\n   <g id=\"patch_3\">\n    <path clip-path=\"url(#p074f8ea222)\" d=\"M 105.256855 1.035821 \nL 255.749395 1.035821 \nL 255.749395 11.39403 \nL 105.256855 11.39403 \nz\n\" style=\"fill:#d9e6f5;stroke:#444443;stroke-linejoin:miter;stroke-width:0.5;\"/>\n   </g>\n   <g id=\"patch_4\">\n    <path clip-path=\"url(#p074f8ea222)\" d=\"M 105.256855 12.429851 \nL 116.9617 12.429851 \nL 116.9617 22.78806 \nL 105.256855 22.78806 \nz\n\" style=\"fill:#d9e6f5;stroke:#444443;stroke-linejoin:miter;stroke-width:0.5;\"/>\n   </g>\n   <g id=\"patch_5\">\n    <path clip-path=\"url(#p074f8ea222)\" d=\"M 105.256855 23.823881 \nL 106.22112 23.823881 \nL 106.22112 34.18209 \nL 105.256855 34.18209 \nz\n\" style=\"fill:#d9e6f5;stroke:#444443;stroke-linejoin:miter;stroke-width:0.5;\"/>\n   </g>\n   <g id=\"patch_6\">\n    <path clip-path=\"url(#p074f8ea222)\" d=\"M 105.256855 35.21791 \nL 105.729538 35.21791 \nL 105.729538 45.576119 \nL 105.256855 45.576119 \nz\n\" style=\"fill:#d9e6f5;stroke:#444443;stroke-linejoin:miter;stroke-width:0.5;\"/>\n   </g>\n   <g id=\"patch_7\">\n    <path clip-path=\"url(#p074f8ea222)\" d=\"M 105.256855 46.61194 \nL 105.505075 46.61194 \nL 105.505075 56.970149 \nL 105.256855 56.970149 \nz\n\" style=\"fill:#d9e6f5;stroke:#444443;stroke-linejoin:miter;stroke-width:0.5;\"/>\n   </g>\n   <g id=\"patch_8\">\n    <path clip-path=\"url(#p074f8ea222)\" d=\"M 105.256855 58.00597 \nL 105.433784 58.00597 \nL 105.433784 68.364179 \nL 105.256855 68.364179 \nz\n\" style=\"fill:#d9e6f5;stroke:#444443;stroke-linejoin:miter;stroke-width:0.5;\"/>\n   </g>\n   <g id=\"matplotlib.axis_1\">\n    <g id=\"xtick_1\">\n     <g id=\"line2d_1\">\n      <defs>\n       <path d=\"M 0 0 \nL 0 3.5 \n\" id=\"m5abfe64b8b\" style=\"stroke:#000000;stroke-width:0.8;\"/>\n      </defs>\n      <g>\n       <use style=\"stroke:#000000;stroke-width:0.8;\" x=\"105.256855\" xlink:href=\"#m5abfe64b8b\" y=\"69.4\"/>\n      </g>\n     </g>\n     <g id=\"text_1\">\n      <!-- 0.00 -->\n      <g style=\"fill:#444443;\" transform=\"translate(94.124042 83.998437)scale(0.1 -0.1)\">\n       <defs>\n        <path d=\"M 31.78125 66.40625 \nQ 24.171875 66.40625 20.328125 58.90625 \nQ 16.5 51.421875 16.5 36.375 \nQ 16.5 21.390625 20.328125 13.890625 \nQ 24.171875 6.390625 31.78125 6.390625 \nQ 39.453125 6.390625 43.28125 13.890625 \nQ 47.125 21.390625 47.125 36.375 \nQ 47.125 51.421875 43.28125 58.90625 \nQ 39.453125 66.40625 31.78125 66.40625 \nz\nM 31.78125 74.21875 \nQ 44.046875 74.21875 50.515625 64.515625 \nQ 56.984375 54.828125 56.984375 36.375 \nQ 56.984375 17.96875 50.515625 8.265625 \nQ 44.046875 -1.421875 31.78125 -1.421875 \nQ 19.53125 -1.421875 13.0625 8.265625 \nQ 6.59375 17.96875 6.59375 36.375 \nQ 6.59375 54.828125 13.0625 64.515625 \nQ 19.53125 74.21875 31.78125 74.21875 \nz\n\" id=\"DejaVuSans-48\"/>\n        <path d=\"M 10.6875 12.40625 \nL 21 12.40625 \nL 21 0 \nL 10.6875 0 \nz\n\" id=\"DejaVuSans-46\"/>\n       </defs>\n       <use xlink:href=\"#DejaVuSans-48\"/>\n       <use x=\"63.623047\" xlink:href=\"#DejaVuSans-46\"/>\n       <use x=\"95.410156\" xlink:href=\"#DejaVuSans-48\"/>\n       <use x=\"159.033203\" xlink:href=\"#DejaVuSans-48\"/>\n      </g>\n     </g>\n    </g>\n    <g id=\"xtick_2\">\n     <g id=\"line2d_2\">\n      <g>\n       <use style=\"stroke:#000000;stroke-width:0.8;\" x=\"256.046875\" xlink:href=\"#m5abfe64b8b\" y=\"69.4\"/>\n      </g>\n     </g>\n     <g id=\"text_2\">\n      <!-- 1.01 -->\n      <g style=\"fill:#444443;\" transform=\"translate(244.914063 83.998437)scale(0.1 -0.1)\">\n       <defs>\n        <path d=\"M 12.40625 8.296875 \nL 28.515625 8.296875 \nL 28.515625 63.921875 \nL 10.984375 60.40625 \nL 10.984375 69.390625 \nL 28.421875 72.90625 \nL 38.28125 72.90625 \nL 38.28125 8.296875 \nL 54.390625 8.296875 \nL 54.390625 0 \nL 12.40625 0 \nz\n\" id=\"DejaVuSans-49\"/>\n       </defs>\n       <use xlink:href=\"#DejaVuSans-49\"/>\n       <use x=\"63.623047\" xlink:href=\"#DejaVuSans-46\"/>\n       <use x=\"95.410156\" xlink:href=\"#DejaVuSans-48\"/>\n       <use x=\"159.033203\" xlink:href=\"#DejaVuSans-49\"/>\n      </g>\n     </g>\n    </g>\n   </g>\n   <g id=\"matplotlib.axis_2\">\n    <g id=\"ytick_1\">\n     <g id=\"line2d_3\">\n      <defs>\n       <path d=\"M 0 0 \nL -3.5 0 \n\" id=\"m1c76170b65\" style=\"stroke:#000000;stroke-width:0.8;\"/>\n      </defs>\n      <g>\n       <use style=\"stroke:#000000;stroke-width:0.8;\" x=\"104.959375\" xlink:href=\"#m1c76170b65\" y=\"6.214925\"/>\n      </g>\n     </g>\n     <g id=\"text_3\">\n      <!-- SOLARAD -->\n      <g style=\"fill:#444443;\" transform=\"translate(50.0125 10.014144)scale(0.1 -0.1)\">\n       <defs>\n        <path d=\"M 53.515625 70.515625 \nL 53.515625 60.890625 \nQ 47.90625 63.578125 42.921875 64.890625 \nQ 37.9375 66.21875 33.296875 66.21875 \nQ 25.25 66.21875 20.875 63.09375 \nQ 16.5 59.96875 16.5 54.203125 \nQ 16.5 49.359375 19.40625 46.890625 \nQ 22.3125 44.4375 30.421875 42.921875 \nL 36.375 41.703125 \nQ 47.40625 39.59375 52.65625 34.296875 \nQ 57.90625 29 57.90625 20.125 \nQ 57.90625 9.515625 50.796875 4.046875 \nQ 43.703125 -1.421875 29.984375 -1.421875 \nQ 24.8125 -1.421875 18.96875 -0.25 \nQ 13.140625 0.921875 6.890625 3.21875 \nL 6.890625 13.375 \nQ 12.890625 10.015625 18.65625 8.296875 \nQ 24.421875 6.59375 29.984375 6.59375 \nQ 38.421875 6.59375 43.015625 9.90625 \nQ 47.609375 13.234375 47.609375 19.390625 \nQ 47.609375 24.75 44.3125 27.78125 \nQ 41.015625 30.8125 33.5 32.328125 \nL 27.484375 33.5 \nQ 16.453125 35.6875 11.515625 40.375 \nQ 6.59375 45.0625 6.59375 53.421875 \nQ 6.59375 63.09375 13.40625 68.65625 \nQ 20.21875 74.21875 32.171875 74.21875 \nQ 37.3125 74.21875 42.625 73.28125 \nQ 47.953125 72.359375 53.515625 70.515625 \nz\n\" id=\"DejaVuSans-83\"/>\n        <path d=\"M 39.40625 66.21875 \nQ 28.65625 66.21875 22.328125 58.203125 \nQ 16.015625 50.203125 16.015625 36.375 \nQ 16.015625 22.609375 22.328125 14.59375 \nQ 28.65625 6.59375 39.40625 6.59375 \nQ 50.140625 6.59375 56.421875 14.59375 \nQ 62.703125 22.609375 62.703125 36.375 \nQ 62.703125 50.203125 56.421875 58.203125 \nQ 50.140625 66.21875 39.40625 66.21875 \nz\nM 39.40625 74.21875 \nQ 54.734375 74.21875 63.90625 63.9375 \nQ 73.09375 53.65625 73.09375 36.375 \nQ 73.09375 19.140625 63.90625 8.859375 \nQ 54.734375 -1.421875 39.40625 -1.421875 \nQ 24.03125 -1.421875 14.8125 8.828125 \nQ 5.609375 19.09375 5.609375 36.375 \nQ 5.609375 53.65625 14.8125 63.9375 \nQ 24.03125 74.21875 39.40625 74.21875 \nz\n\" id=\"DejaVuSans-79\"/>\n        <path d=\"M 9.8125 72.90625 \nL 19.671875 72.90625 \nL 19.671875 8.296875 \nL 55.171875 8.296875 \nL 55.171875 0 \nL 9.8125 0 \nz\n\" id=\"DejaVuSans-76\"/>\n        <path d=\"M 34.1875 63.1875 \nL 20.796875 26.90625 \nL 47.609375 26.90625 \nz\nM 28.609375 72.90625 \nL 39.796875 72.90625 \nL 67.578125 0 \nL 57.328125 0 \nL 50.6875 18.703125 \nL 17.828125 18.703125 \nL 11.1875 0 \nL 0.78125 0 \nz\n\" id=\"DejaVuSans-65\"/>\n        <path d=\"M 44.390625 34.1875 \nQ 47.5625 33.109375 50.5625 29.59375 \nQ 53.5625 26.078125 56.59375 19.921875 \nL 66.609375 0 \nL 56 0 \nL 46.6875 18.703125 \nQ 43.0625 26.03125 39.671875 28.421875 \nQ 36.28125 30.8125 30.421875 30.8125 \nL 19.671875 30.8125 \nL 19.671875 0 \nL 9.8125 0 \nL 9.8125 72.90625 \nL 32.078125 72.90625 \nQ 44.578125 72.90625 50.734375 67.671875 \nQ 56.890625 62.453125 56.890625 51.90625 \nQ 56.890625 45.015625 53.6875 40.46875 \nQ 50.484375 35.9375 44.390625 34.1875 \nz\nM 19.671875 64.796875 \nL 19.671875 38.921875 \nL 32.078125 38.921875 \nQ 39.203125 38.921875 42.84375 42.21875 \nQ 46.484375 45.515625 46.484375 51.90625 \nQ 46.484375 58.296875 42.84375 61.546875 \nQ 39.203125 64.796875 32.078125 64.796875 \nz\n\" id=\"DejaVuSans-82\"/>\n        <path d=\"M 19.671875 64.796875 \nL 19.671875 8.109375 \nL 31.59375 8.109375 \nQ 46.6875 8.109375 53.6875 14.9375 \nQ 60.6875 21.78125 60.6875 36.53125 \nQ 60.6875 51.171875 53.6875 57.984375 \nQ 46.6875 64.796875 31.59375 64.796875 \nz\nM 9.8125 72.90625 \nL 30.078125 72.90625 \nQ 51.265625 72.90625 61.171875 64.09375 \nQ 71.09375 55.28125 71.09375 36.53125 \nQ 71.09375 17.671875 61.125 8.828125 \nQ 51.171875 0 30.078125 0 \nL 9.8125 0 \nz\n\" id=\"DejaVuSans-68\"/>\n       </defs>\n       <use xlink:href=\"#DejaVuSans-83\"/>\n       <use x=\"63.476562\" xlink:href=\"#DejaVuSans-79\"/>\n       <use x=\"142.1875\" xlink:href=\"#DejaVuSans-76\"/>\n       <use x=\"200.150391\" xlink:href=\"#DejaVuSans-65\"/>\n       <use x=\"268.558594\" xlink:href=\"#DejaVuSans-82\"/>\n       <use x=\"334.041016\" xlink:href=\"#DejaVuSans-65\"/>\n       <use x=\"402.449219\" xlink:href=\"#DejaVuSans-68\"/>\n      </g>\n     </g>\n    </g>\n    <g id=\"ytick_2\">\n     <g id=\"line2d_4\">\n      <g>\n       <use style=\"stroke:#000000;stroke-width:0.8;\" x=\"104.959375\" xlink:href=\"#m1c76170b65\" y=\"17.608955\"/>\n      </g>\n     </g>\n     <g id=\"text_4\">\n      <!-- SUR_TEMP -->\n      <g style=\"fill:#444443;\" transform=\"translate(45.259375 21.319893)scale(0.1 -0.1)\">\n       <defs>\n        <path d=\"M 8.6875 72.90625 \nL 18.609375 72.90625 \nL 18.609375 28.609375 \nQ 18.609375 16.890625 22.84375 11.734375 \nQ 27.09375 6.59375 36.625 6.59375 \nQ 46.09375 6.59375 50.34375 11.734375 \nQ 54.59375 16.890625 54.59375 28.609375 \nL 54.59375 72.90625 \nL 64.5 72.90625 \nL 64.5 27.390625 \nQ 64.5 13.140625 57.4375 5.859375 \nQ 50.390625 -1.421875 36.625 -1.421875 \nQ 22.796875 -1.421875 15.734375 5.859375 \nQ 8.6875 13.140625 8.6875 27.390625 \nz\n\" id=\"DejaVuSans-85\"/>\n        <path d=\"M 50.984375 -16.609375 \nL 50.984375 -23.578125 \nL -0.984375 -23.578125 \nL -0.984375 -16.609375 \nz\n\" id=\"DejaVuSans-95\"/>\n        <path d=\"M -0.296875 72.90625 \nL 61.375 72.90625 \nL 61.375 64.59375 \nL 35.5 64.59375 \nL 35.5 0 \nL 25.59375 0 \nL 25.59375 64.59375 \nL -0.296875 64.59375 \nz\n\" id=\"DejaVuSans-84\"/>\n        <path d=\"M 9.8125 72.90625 \nL 55.90625 72.90625 \nL 55.90625 64.59375 \nL 19.671875 64.59375 \nL 19.671875 43.015625 \nL 54.390625 43.015625 \nL 54.390625 34.71875 \nL 19.671875 34.71875 \nL 19.671875 8.296875 \nL 56.78125 8.296875 \nL 56.78125 0 \nL 9.8125 0 \nz\n\" id=\"DejaVuSans-69\"/>\n        <path d=\"M 9.8125 72.90625 \nL 24.515625 72.90625 \nL 43.109375 23.296875 \nL 61.8125 72.90625 \nL 76.515625 72.90625 \nL 76.515625 0 \nL 66.890625 0 \nL 66.890625 64.015625 \nL 48.09375 14.015625 \nL 38.1875 14.015625 \nL 19.390625 64.015625 \nL 19.390625 0 \nL 9.8125 0 \nz\n\" id=\"DejaVuSans-77\"/>\n        <path d=\"M 19.671875 64.796875 \nL 19.671875 37.40625 \nL 32.078125 37.40625 \nQ 38.96875 37.40625 42.71875 40.96875 \nQ 46.484375 44.53125 46.484375 51.125 \nQ 46.484375 57.671875 42.71875 61.234375 \nQ 38.96875 64.796875 32.078125 64.796875 \nz\nM 9.8125 72.90625 \nL 32.078125 72.90625 \nQ 44.34375 72.90625 50.609375 67.359375 \nQ 56.890625 61.8125 56.890625 51.125 \nQ 56.890625 40.328125 50.609375 34.8125 \nQ 44.34375 29.296875 32.078125 29.296875 \nL 19.671875 29.296875 \nL 19.671875 0 \nL 9.8125 0 \nz\n\" id=\"DejaVuSans-80\"/>\n       </defs>\n       <use xlink:href=\"#DejaVuSans-83\"/>\n       <use x=\"63.476562\" xlink:href=\"#DejaVuSans-85\"/>\n       <use x=\"136.669922\" xlink:href=\"#DejaVuSans-82\"/>\n       <use x=\"206.152344\" xlink:href=\"#DejaVuSans-95\"/>\n       <use x=\"256.152344\" xlink:href=\"#DejaVuSans-84\"/>\n       <use x=\"317.236328\" xlink:href=\"#DejaVuSans-69\"/>\n       <use x=\"380.419922\" xlink:href=\"#DejaVuSans-77\"/>\n       <use x=\"466.699219\" xlink:href=\"#DejaVuSans-80\"/>\n      </g>\n     </g>\n    </g>\n    <g id=\"ytick_3\">\n     <g id=\"line2d_5\">\n      <g>\n       <use style=\"stroke:#000000;stroke-width:0.8;\" x=\"104.959375\" xlink:href=\"#m1c76170b65\" y=\"29.002985\"/>\n      </g>\n     </g>\n     <g id=\"text_5\">\n      <!-- T_HR_AVG -->\n      <g style=\"fill:#444443;\" transform=\"translate(46.590625 32.713923)scale(0.1 -0.1)\">\n       <defs>\n        <path d=\"M 9.8125 72.90625 \nL 19.671875 72.90625 \nL 19.671875 43.015625 \nL 55.515625 43.015625 \nL 55.515625 72.90625 \nL 65.375 72.90625 \nL 65.375 0 \nL 55.515625 0 \nL 55.515625 34.71875 \nL 19.671875 34.71875 \nL 19.671875 0 \nL 9.8125 0 \nz\n\" id=\"DejaVuSans-72\"/>\n        <path d=\"M 28.609375 0 \nL 0.78125 72.90625 \nL 11.078125 72.90625 \nL 34.1875 11.53125 \nL 57.328125 72.90625 \nL 67.578125 72.90625 \nL 39.796875 0 \nz\n\" id=\"DejaVuSans-86\"/>\n        <path d=\"M 59.515625 10.40625 \nL 59.515625 29.984375 \nL 43.40625 29.984375 \nL 43.40625 38.09375 \nL 69.28125 38.09375 \nL 69.28125 6.78125 \nQ 63.578125 2.734375 56.6875 0.65625 \nQ 49.8125 -1.421875 42 -1.421875 \nQ 24.90625 -1.421875 15.25 8.5625 \nQ 5.609375 18.5625 5.609375 36.375 \nQ 5.609375 54.25 15.25 64.234375 \nQ 24.90625 74.21875 42 74.21875 \nQ 49.125 74.21875 55.546875 72.453125 \nQ 61.96875 70.703125 67.390625 67.28125 \nL 67.390625 56.78125 \nQ 61.921875 61.421875 55.765625 63.765625 \nQ 49.609375 66.109375 42.828125 66.109375 \nQ 29.4375 66.109375 22.71875 58.640625 \nQ 16.015625 51.171875 16.015625 36.375 \nQ 16.015625 21.625 22.71875 14.15625 \nQ 29.4375 6.6875 42.828125 6.6875 \nQ 48.046875 6.6875 52.140625 7.59375 \nQ 56.25 8.5 59.515625 10.40625 \nz\n\" id=\"DejaVuSans-71\"/>\n       </defs>\n       <use xlink:href=\"#DejaVuSans-84\"/>\n       <use x=\"61.083984\" xlink:href=\"#DejaVuSans-95\"/>\n       <use x=\"111.083984\" xlink:href=\"#DejaVuSans-72\"/>\n       <use x=\"186.279297\" xlink:href=\"#DejaVuSans-82\"/>\n       <use x=\"255.761719\" xlink:href=\"#DejaVuSans-95\"/>\n       <use x=\"305.761719\" xlink:href=\"#DejaVuSans-65\"/>\n       <use x=\"367.794922\" xlink:href=\"#DejaVuSans-86\"/>\n       <use x=\"436.203125\" xlink:href=\"#DejaVuSans-71\"/>\n      </g>\n     </g>\n    </g>\n    <g id=\"ytick_4\">\n     <g id=\"line2d_6\">\n      <g>\n       <use style=\"stroke:#000000;stroke-width:0.8;\" x=\"104.959375\" xlink:href=\"#m1c76170b65\" y=\"40.397015\"/>\n      </g>\n     </g>\n     <g id=\"text_6\">\n      <!-- RH_HR_AVG -->\n      <g style=\"fill:#444443;\" transform=\"translate(38.229688 44.107952)scale(0.1 -0.1)\">\n       <use xlink:href=\"#DejaVuSans-82\"/>\n       <use x=\"69.482422\" xlink:href=\"#DejaVuSans-72\"/>\n       <use x=\"144.677734\" xlink:href=\"#DejaVuSans-95\"/>\n       <use x=\"194.677734\" xlink:href=\"#DejaVuSans-72\"/>\n       <use x=\"269.873047\" xlink:href=\"#DejaVuSans-82\"/>\n       <use x=\"339.355469\" xlink:href=\"#DejaVuSans-95\"/>\n       <use x=\"389.355469\" xlink:href=\"#DejaVuSans-65\"/>\n       <use x=\"451.388672\" xlink:href=\"#DejaVuSans-86\"/>\n       <use x=\"519.796875\" xlink:href=\"#DejaVuSans-71\"/>\n      </g>\n     </g>\n    </g>\n    <g id=\"ytick_5\">\n     <g id=\"line2d_7\">\n      <g>\n       <use style=\"stroke:#000000;stroke-width:0.8;\" x=\"104.959375\" xlink:href=\"#m1c76170b65\" y=\"51.791045\"/>\n      </g>\n     </g>\n     <g id=\"text_7\">\n      <!-- SOIL_MOISTURE_10 -->\n      <g style=\"fill:#444443;\" transform=\"translate(0 55.501982)scale(0.1 -0.1)\">\n       <defs>\n        <path d=\"M 9.8125 72.90625 \nL 19.671875 72.90625 \nL 19.671875 0 \nL 9.8125 0 \nz\n\" id=\"DejaVuSans-73\"/>\n       </defs>\n       <use xlink:href=\"#DejaVuSans-83\"/>\n       <use x=\"63.476562\" xlink:href=\"#DejaVuSans-79\"/>\n       <use x=\"142.1875\" xlink:href=\"#DejaVuSans-73\"/>\n       <use x=\"171.679688\" xlink:href=\"#DejaVuSans-76\"/>\n       <use x=\"227.392578\" xlink:href=\"#DejaVuSans-95\"/>\n       <use x=\"277.392578\" xlink:href=\"#DejaVuSans-77\"/>\n       <use x=\"363.671875\" xlink:href=\"#DejaVuSans-79\"/>\n       <use x=\"442.382812\" xlink:href=\"#DejaVuSans-73\"/>\n       <use x=\"471.875\" xlink:href=\"#DejaVuSans-83\"/>\n       <use x=\"535.351562\" xlink:href=\"#DejaVuSans-84\"/>\n       <use x=\"596.435547\" xlink:href=\"#DejaVuSans-85\"/>\n       <use x=\"669.628906\" xlink:href=\"#DejaVuSans-82\"/>\n       <use x=\"739.111328\" xlink:href=\"#DejaVuSans-69\"/>\n       <use x=\"802.294922\" xlink:href=\"#DejaVuSans-95\"/>\n       <use x=\"852.294922\" xlink:href=\"#DejaVuSans-49\"/>\n       <use x=\"915.917969\" xlink:href=\"#DejaVuSans-48\"/>\n      </g>\n     </g>\n    </g>\n    <g id=\"ytick_6\">\n     <g id=\"line2d_8\">\n      <g>\n       <use style=\"stroke:#000000;stroke-width:0.8;\" x=\"104.959375\" xlink:href=\"#m1c76170b65\" y=\"63.185075\"/>\n      </g>\n     </g>\n     <g id=\"text_8\">\n      <!-- P_CALC -->\n      <g style=\"fill:#444443;\" transform=\"translate(60.551563 66.896012)scale(0.1 -0.1)\">\n       <defs>\n        <path d=\"M 64.40625 67.28125 \nL 64.40625 56.890625 \nQ 59.421875 61.53125 53.78125 63.8125 \nQ 48.140625 66.109375 41.796875 66.109375 \nQ 29.296875 66.109375 22.65625 58.46875 \nQ 16.015625 50.828125 16.015625 36.375 \nQ 16.015625 21.96875 22.65625 14.328125 \nQ 29.296875 6.6875 41.796875 6.6875 \nQ 48.140625 6.6875 53.78125 8.984375 \nQ 59.421875 11.28125 64.40625 15.921875 \nL 64.40625 5.609375 \nQ 59.234375 2.09375 53.4375 0.328125 \nQ 47.65625 -1.421875 41.21875 -1.421875 \nQ 24.65625 -1.421875 15.125 8.703125 \nQ 5.609375 18.84375 5.609375 36.375 \nQ 5.609375 53.953125 15.125 64.078125 \nQ 24.65625 74.21875 41.21875 74.21875 \nQ 47.75 74.21875 53.53125 72.484375 \nQ 59.328125 70.75 64.40625 67.28125 \nz\n\" id=\"DejaVuSans-67\"/>\n       </defs>\n       <use xlink:href=\"#DejaVuSans-80\"/>\n       <use x=\"60.302734\" xlink:href=\"#DejaVuSans-95\"/>\n       <use x=\"110.302734\" xlink:href=\"#DejaVuSans-67\"/>\n       <use x=\"180.126953\" xlink:href=\"#DejaVuSans-65\"/>\n       <use x=\"248.535156\" xlink:href=\"#DejaVuSans-76\"/>\n       <use x=\"304.248047\" xlink:href=\"#DejaVuSans-67\"/>\n      </g>\n     </g>\n    </g>\n   </g>\n   <g id=\"patch_9\">\n    <path d=\"M 104.959375 69.4 \nL 104.959375 0 \n\" style=\"fill:none;stroke:#000000;stroke-linecap:square;stroke-linejoin:miter;stroke-width:0.3;\"/>\n   </g>\n   <g id=\"patch_10\">\n    <path d=\"M 256.046875 69.4 \nL 256.046875 0 \n\" style=\"fill:none;stroke:#000000;stroke-linecap:square;stroke-linejoin:miter;stroke-width:0.3;\"/>\n   </g>\n   <g id=\"patch_11\">\n    <path d=\"M 104.959375 69.4 \nL 256.046875 69.4 \n\" style=\"fill:none;stroke:#000000;stroke-linecap:square;stroke-linejoin:miter;stroke-width:0.3;\"/>\n   </g>\n   <g id=\"patch_12\">\n    <path d=\"M 104.959375 0 \nL 256.046875 0 \n\" style=\"fill:none;stroke:#000000;stroke-linecap:square;stroke-linejoin:miter;stroke-width:0.3;\"/>\n   </g>\n  </g>\n </g>\n <defs>\n  <clipPath id=\"p074f8ea222\">\n   <rect height=\"69.4\" width=\"151.0875\" x=\"104.959375\" y=\"0\"/>\n  </clipPath>\n </defs>\n</svg>\n",
            "text/plain": [
              "<rfpimp.PimpViz at 0x7fb19aaef0d0>"
            ]
          },
          "metadata": {
            "tags": []
          },
          "execution_count": 136
        }
      ]
    },
    {
      "cell_type": "code",
      "metadata": {
        "id": "weighted-investing",
        "outputId": "68848ec3-f5f6-426e-d400-cbb02f2089c7"
      },
      "source": [
        "# Feature importance with correlated variables removed\n",
        "# Precipitation feature not very important\n",
        "clf = RandomForestRegressor(n_estimators=50)\n",
        "clf = clf.fit(X_train_all[non_corr_vars], y_train_all)\n",
        "for col, imp in zip(X_train_all[non_corr_vars].columns,clf.feature_importances_):\n",
        "    print(f'{col:<20} - {round(imp,3):^10}')"
      ],
      "id": "weighted-investing",
      "execution_count": null,
      "outputs": [
        {
          "output_type": "stream",
          "text": [
            "SOLARAD              -   0.838   \n",
            "SUR_TEMP             -   0.045   \n",
            "T_HR_AVG             -   0.029   \n",
            "RH_HR_AVG            -   0.052   \n",
            "SOIL_MOISTURE_10     -   0.033   \n",
            "P_CALC               -   0.004   \n"
          ],
          "name": "stdout"
        }
      ]
    },
    {
      "cell_type": "code",
      "metadata": {
        "id": "advisory-civilian",
        "outputId": "b3d88c57-ddb5-429f-e9bb-2494496a634f"
      },
      "source": [
        "# Algs on subset of features\n",
        "# MAE is worse but may be more general since model is not chasing noise??\n",
        "d={}\n",
        "for algo in algorithms:\n",
        "    pipe = Pipeline([('lm',     algo)])\n",
        "\n",
        "    pipe.fit(X_train[non_corr_vars], y_train)\n",
        "    y_pred = pipe.predict(X_validation[non_corr_vars])\n",
        "    mae = mean_absolute_error(y_validation, y_pred)\n",
        "    d[algo.__class__.__name__]=mae\n",
        "    #print(f\"{algo.__class__.__name__:<17} - mean absolute error: {mae:,.2f}\")\n",
        "sorted( ((v,k) for k,v in d.items()))[:5]"
      ],
      "id": "advisory-civilian",
      "execution_count": null,
      "outputs": [
        {
          "output_type": "execute_result",
          "data": {
            "text/plain": [
              "[(870.8757708527856, 'RandomForestRegressor'),\n",
              " (1013.1610644257703, 'ExtraTreeRegressor'),\n",
              " (1117.2394957983192, 'DecisionTreeRegressor'),\n",
              " (1512.3579405641642, 'HuberRegressor'),\n",
              " (1764.8133853687484, 'PassiveAggressiveRegressor')]"
            ]
          },
          "metadata": {
            "tags": []
          },
          "execution_count": 124
        }
      ]
    },
    {
      "cell_type": "code",
      "metadata": {
        "id": "induced-recipe",
        "outputId": "2564cc2f-ef2e-4aed-def7-c4947ae66406"
      },
      "source": [
        "# Look at all features\n",
        "# Scale all features, doesnt help forest algs\n",
        "d={}\n",
        "for algo in algorithms:\n",
        "    pipe = Pipeline([('scaler', StandardScaler()),\n",
        "                    ('lm',     algo)])\n",
        "\n",
        "    pipe.fit(X_train, y_train)\n",
        "    y_pred = pipe.predict(X_validation)\n",
        "    mae = mean_absolute_error(y_validation, y_pred)\n",
        "    d[algo.__class__.__name__]=mae\n",
        "sorted( ((v,k) for k,v in d.items()))[:5]"
      ],
      "id": "induced-recipe",
      "execution_count": null,
      "outputs": [
        {
          "output_type": "execute_result",
          "data": {
            "text/plain": [
              "[(744.7935620915033, 'RandomForestRegressor'),\n",
              " (938.750700280112, 'DecisionTreeRegressor'),\n",
              " (969.0345471521942, 'ExtraTreeRegressor'),\n",
              " (1400.0851484995803, 'PassiveAggressiveRegressor'),\n",
              " (1420.2764765720099, 'HuberRegressor')]"
            ]
          },
          "metadata": {
            "tags": []
          },
          "execution_count": 89
        }
      ]
    },
    {
      "cell_type": "code",
      "metadata": {
        "id": "descending-monitoring",
        "outputId": "32c06bca-bd12-4607-f65b-972474138cf1"
      },
      "source": [
        "X_train.columns"
      ],
      "id": "descending-monitoring",
      "execution_count": null,
      "outputs": [
        {
          "output_type": "execute_result",
          "data": {
            "text/plain": [
              "Index(['T_HR_AVG', 'T_MAX', 'T_MIN', 'P_CALC', 'SOLARAD', 'SOLARAD_MAX',\n",
              "       'SUR_TEMP', 'RH_HR_AVG', 'SOIL_MOISTURE_10', 'SOIL_MOISTURE_100',\n",
              "       'SOIL_TEMP_5', 'SOIL_TEMP_100'],\n",
              "      dtype='object')"
            ]
          },
          "metadata": {
            "tags": []
          },
          "execution_count": 38
        }
      ]
    },
    {
      "cell_type": "code",
      "metadata": {
        "id": "soviet-monster",
        "outputId": "3f9770d2-148d-408d-fcee-921ddf326bf7"
      },
      "source": [
        "# Scale everything but solar, doesnt change much\n",
        "num_columns = ['T_HR_AVG', 'T_MAX', 'T_MIN', 'P_CALC',  #'SOLARAD', 'SOLARAD_MAX',\n",
        "       'SUR_TEMP', 'RH_HR_AVG', 'SOIL_MOISTURE_10', 'SOIL_MOISTURE_100',\n",
        "       'SOIL_TEMP_5', 'SOIL_TEMP_100']\n",
        "\n",
        "num_pipe = Pipeline([('scaler', StandardScaler())])\n",
        "\n",
        "preprocessing = ColumnTransformer([('continuous',num_pipe, num_columns),\n",
        "                                   ], remainder='passthrough')\n",
        "\n",
        "for algo in algorithms:\n",
        "    pipe = Pipeline([('preprocessing', preprocessing), \n",
        "                     ('lm',     algo)])\n",
        "    pipe.fit(X_train, y_train)\n",
        "    y_pred = pipe.predict(X_validation)\n",
        "    mae = mean_absolute_error(y_validation, y_pred)\n",
        "    print(f\"{algo.__class__.__name__:<17} - mean absolute error: {mae:,.2f}\")"
      ],
      "id": "soviet-monster",
      "execution_count": null,
      "outputs": [
        {
          "output_type": "stream",
          "text": [
            "RandomForestRegressor - mean absolute error: 741.41\n",
            "HuberRegressor    - mean absolute error: 1,440.35\n"
          ],
          "name": "stdout"
        }
      ]
    },
    {
      "cell_type": "code",
      "metadata": {
        "id": "pregnant-ethernet",
        "outputId": "80e51ebc-f2f7-40d2-da48-cc581a5e80e1"
      },
      "source": [
        "# Scale solar, doesnt change much\n",
        "num_columns = ['SOLARAD', 'SOLARAD_MAX']\n",
        "\n",
        "num_pipe = Pipeline([('scaler', StandardScaler())])\n",
        "\n",
        "preprocessing = ColumnTransformer([('continuous',num_pipe, num_columns),\n",
        "                                   ], remainder='passthrough')\n",
        "\n",
        "for algo in algorithms:\n",
        "    pipe = Pipeline([('preprocessing', preprocessing), \n",
        "                     ('lm',     algo)])\n",
        "    pipe.fit(X_train, y_train)\n",
        "    y_pred = pipe.predict(X_validation)\n",
        "    mae = mean_absolute_error(y_validation, y_pred)\n",
        "    print(f\"{algo.__class__.__name__:<17} - mean absolute error: {mae:,.2f}\")"
      ],
      "id": "pregnant-ethernet",
      "execution_count": null,
      "outputs": [
        {
          "output_type": "stream",
          "text": [
            "RandomForestRegressor - mean absolute error: 742.62\n",
            "HuberRegressor    - mean absolute error: 1,438.31\n"
          ],
          "name": "stdout"
        },
        {
          "output_type": "stream",
          "text": [
            "/opt/anaconda3/lib/python3.8/site-packages/sklearn/linear_model/_huber.py:296: ConvergenceWarning: lbfgs failed to converge (status=1):\n",
            "STOP: TOTAL NO. of ITERATIONS REACHED LIMIT.\n",
            "\n",
            "Increase the number of iterations (max_iter) or scale the data as shown in:\n",
            "    https://scikit-learn.org/stable/modules/preprocessing.html\n",
            "  self.n_iter_ = _check_optimize_result(\"lbfgs\", opt_res, self.max_iter)\n"
          ],
          "name": "stderr"
        }
      ]
    },
    {
      "cell_type": "code",
      "metadata": {
        "id": "taken-spider",
        "outputId": "9deb7955-471a-4c6b-f1a1-06e9d57b73a6"
      },
      "source": [
        "# Quantile Transform all features, no impact\n",
        "num_columns = ['T_HR_AVG', 'T_MAX', 'T_MIN', 'P_CALC',  'SOLARAD', 'SOLARAD_MAX',\n",
        "       'SUR_TEMP', 'RH_HR_AVG', 'SOIL_MOISTURE_10', 'SOIL_MOISTURE_100',\n",
        "       'SOIL_TEMP_5', 'SOIL_TEMP_100']\n",
        "\n",
        "num_pipe = Pipeline([('quant', QuantileTransformer(output_distribution='normal'))])\n",
        "\n",
        "preprocessing = ColumnTransformer([('continuous',num_pipe, num_columns),\n",
        "                                   ], remainder='passthrough')\n",
        "\n",
        "for algo in algorithms:\n",
        "    pipe = Pipeline([('preprocessing', preprocessing), \n",
        "                     ('lm',     algo)])\n",
        "    pipe.fit(X_train, y_train)\n",
        "    y_pred = pipe.predict(X_validation)\n",
        "    mae = mean_absolute_error(y_validation, y_pred)\n",
        "    print(f\"{algo.__class__.__name__:<17} - mean absolute error: {mae:,.2f}\")"
      ],
      "id": "taken-spider",
      "execution_count": null,
      "outputs": [
        {
          "output_type": "stream",
          "text": [
            "RandomForestRegressor - mean absolute error: 743.76\n",
            "HuberRegressor    - mean absolute error: 1,398.01\n"
          ],
          "name": "stdout"
        }
      ]
    },
    {
      "cell_type": "code",
      "metadata": {
        "id": "unable-daily",
        "outputId": "653b97a8-11c4-4ad0-abd5-a168b54fbe29"
      },
      "source": [
        "# Quantile Transform non solar features, small decrease\n",
        "num_columns = ['T_HR_AVG', 'T_MAX', 'T_MIN', 'P_CALC',  #'SOLARAD', 'SOLARAD_MAX',\n",
        "       'SUR_TEMP', 'RH_HR_AVG', 'SOIL_MOISTURE_10', 'SOIL_MOISTURE_100',\n",
        "       'SOIL_TEMP_5', 'SOIL_TEMP_100']\n",
        "\n",
        "num_pipe = Pipeline([('quant', QuantileTransformer(output_distribution='normal'))])\n",
        "\n",
        "preprocessing = ColumnTransformer([('continuous',num_pipe, num_columns),\n",
        "                                   ], remainder='passthrough')\n",
        "\n",
        "for algo in algorithms:\n",
        "    pipe = Pipeline([('preprocessing', preprocessing), \n",
        "                     ('lm',     algo)])\n",
        "    pipe.fit(X_train, y_train)\n",
        "    y_pred = pipe.predict(X_validation)\n",
        "    mae = mean_absolute_error(y_validation, y_pred)\n",
        "    print(f\"{algo.__class__.__name__:<17} - mean absolute error: {mae:,.2f}\")"
      ],
      "id": "unable-daily",
      "execution_count": null,
      "outputs": [
        {
          "output_type": "stream",
          "text": [
            "RandomForestRegressor - mean absolute error: 738.43\n",
            "HuberRegressor    - mean absolute error: 1,432.10\n"
          ],
          "name": "stdout"
        }
      ]
    },
    {
      "cell_type": "code",
      "metadata": {
        "id": "amateur-explanation"
      },
      "source": [
        "# Try binning Solar, look for best parameters\n",
        "bin_columns = ['SOLARAD']\n",
        "bin_pipe = Pipeline([('kbins', KBinsDiscretizer())])\n",
        "\n",
        "preprocessing = ColumnTransformer([('bin', bin_pipe, bin_columns),\n",
        "                                   ], remainder='passthrough')\n",
        "pipe = Pipeline([\n",
        "        ('preprocessing', preprocessing),\n",
        "        ('clf', RandomForestRegressor())\n",
        "    ])\n",
        "\n",
        "search_space = [{'clf': [RandomForestRegressor()],  # Actual Estimator\n",
        "                 'preprocessing__bin__kbins__encode': ['onehot', 'onehot-dense', 'ordinal'],\n",
        "                'preprocessing__bin__kbins__strategy': ['uniform', 'quantile', 'kmeans'],\n",
        "                'preprocessing__bin__kbins__n_bins': [5,7,10],}]"
      ],
      "id": "amateur-explanation",
      "execution_count": null,
      "outputs": []
    },
    {
      "cell_type": "code",
      "metadata": {
        "collapsed": true,
        "jupyter": {
          "outputs_hidden": true
        },
        "id": "sunset-minnesota",
        "outputId": "63c296b2-9315-4425-f562-c18d43a208f8"
      },
      "source": [
        "rskf = RepeatedStratifiedKFold(n_splits = 5, n_repeats = 2, random_state = 42)\n",
        "cv = GridSearchCV(pipe, \n",
        "                search_space, \n",
        "                scoring='neg_mean_absolute_error',\n",
        "                cv=rskf, \n",
        "                n_jobs=-1,\n",
        "                verbose=1)\n",
        "cv.fit(X_train, y_train)"
      ],
      "id": "sunset-minnesota",
      "execution_count": null,
      "outputs": [
        {
          "output_type": "stream",
          "text": [
            "Fitting 10 folds for each of 27 candidates, totalling 270 fits\n"
          ],
          "name": "stdout"
        },
        {
          "output_type": "stream",
          "text": [
            "/opt/anaconda3/lib/python3.8/site-packages/sklearn/model_selection/_split.py:666: UserWarning: The least populated class in y has only 1 members, which is less than n_splits=5.\n",
            "  warnings.warn((\"The least populated class in y has only %d\"\n",
            "/opt/anaconda3/lib/python3.8/site-packages/sklearn/model_selection/_split.py:666: UserWarning: The least populated class in y has only 1 members, which is less than n_splits=5.\n",
            "  warnings.warn((\"The least populated class in y has only %d\"\n"
          ],
          "name": "stderr"
        },
        {
          "output_type": "execute_result",
          "data": {
            "text/plain": [
              "GridSearchCV(cv=RepeatedStratifiedKFold(n_repeats=2, n_splits=5, random_state=42),\n",
              "             estimator=Pipeline(steps=[('preprocessing',\n",
              "                                        ColumnTransformer(remainder='passthrough',\n",
              "                                                          transformers=[('bin',\n",
              "                                                                         Pipeline(steps=[('kbins',\n",
              "                                                                                          KBinsDiscretizer())]),\n",
              "                                                                         ['SOLARAD'])])),\n",
              "                                       ('clf', RandomForestRegressor())]),\n",
              "             n_jobs=-1,\n",
              "             param_grid=[{'clf': [RandomForestRegressor()],\n",
              "                          'preprocessing__bin__kbins__encode': ['onehot',\n",
              "                                                                'onehot-dense',\n",
              "                                                                'ordinal'],\n",
              "                          'preprocessing__bin__kbins__n_bins': [5, 7, 10],\n",
              "                          'preprocessing__bin__kbins__strategy': ['uniform',\n",
              "                                                                  'quantile',\n",
              "                                                                  'kmeans']}],\n",
              "             scoring='neg_mean_absolute_error', verbose=1)"
            ]
          },
          "metadata": {
            "tags": []
          },
          "execution_count": 45
        }
      ]
    },
    {
      "cell_type": "code",
      "metadata": {
        "id": "boolean-portsmouth",
        "outputId": "72f5c40c-41d9-4e9c-9516-c9e074c26728"
      },
      "source": [
        "print(f'Best MAE-score: {cv.best_score_:.3f}\\n')\n",
        "print(f'Best parameter set: {cv.best_params_}\\n')"
      ],
      "id": "boolean-portsmouth",
      "execution_count": null,
      "outputs": [
        {
          "output_type": "stream",
          "text": [
            "Best MAE-score: -709.928\n",
            "\n",
            "Best parameter set: {'clf': RandomForestRegressor(), 'preprocessing__bin__kbins__encode': 'onehot-dense', 'preprocessing__bin__kbins__n_bins': 10, 'preprocessing__bin__kbins__strategy': 'kmeans'}\n",
            "\n"
          ],
          "name": "stdout"
        }
      ]
    },
    {
      "cell_type": "code",
      "metadata": {
        "id": "decimal-pavilion",
        "outputId": "b8547baf-f744-4105-eb33-9726c49416c8"
      },
      "source": [
        "# Binning doesn't help\n",
        "bin_pipe = Pipeline([('kbins', KBinsDiscretizer(encode='onehot-dense', n_bins=10, strategy='kmeans'))])\n",
        "pipe = Pipeline([('preprocessing', preprocessing), \n",
        "                 ('lm',     RandomForestRegressor())])\n",
        "\n",
        "pipe.fit(X_train, y_train)\n",
        "y_pred = pipe.predict(X_validation)\n",
        "mae = mean_absolute_error(y_validation, y_pred)\n",
        "print(f\"{'RF':<17} - mean absolute error: {mae:,.2f}\")"
      ],
      "id": "decimal-pavilion",
      "execution_count": null,
      "outputs": [
        {
          "output_type": "stream",
          "text": [
            "RF                - mean absolute error: 760.20\n"
          ],
          "name": "stdout"
        }
      ]
    },
    {
      "cell_type": "code",
      "metadata": {
        "id": "average-answer"
      },
      "source": [
        "algs_subset = [HuberRegressor(), PassiveAggressiveRegressor(), RandomForestRegressor(),\n",
        "       DecisionTreeRegressor(), ExtraTreeRegressor()]"
      ],
      "id": "average-answer",
      "execution_count": null,
      "outputs": []
    },
    {
      "cell_type": "code",
      "metadata": {
        "id": "fewer-convention",
        "outputId": "45945e33-fd92-49b4-da90-a82af3660108"
      },
      "source": [
        "# Cross validation to find best model\n",
        "for algo in algs_subset:\n",
        "    from sklearn.model_selection import cross_val_score\n",
        "    clf = algo\n",
        "    scores = cross_val_score(clf, X_train, y_train, cv=5, scoring='neg_mean_absolute_error')\n",
        "    avg = np.mean(scores)\n",
        "    print(f\"{algo.__class__.__name__:<30} - avg mae: {avg:,.2f}\")"
      ],
      "id": "fewer-convention",
      "execution_count": null,
      "outputs": [
        {
          "output_type": "stream",
          "text": [
            "HuberRegressor                 - avg mae: -1,456.11\n",
            "PassiveAggressiveRegressor     - avg mae: -2,508.37\n",
            "RandomForestRegressor          - avg mae: -708.19\n",
            "DecisionTreeRegressor          - avg mae: -891.95\n",
            "ExtraTreeRegressor             - avg mae: -980.61\n",
            "PassiveAggressiveRegressor     - avg mae: -2,475.45\n"
          ],
          "name": "stdout"
        }
      ]
    },
    {
      "cell_type": "code",
      "metadata": {
        "id": "capital-scenario",
        "outputId": "71c1a1da-6f23-445a-a13a-5c3eababe749"
      },
      "source": [
        "# Hyperparameter search - Random Forest\n",
        "hyperparameters = dict(n_estimators=[75,100,125], \n",
        "                       max_features=['auto','sqrt','log2'],\n",
        "                       criterion=['mse','mae']\n",
        "                       )\n",
        "clf_grid = GridSearchCV(RandomForestRegressor(), \n",
        "                                    hyperparameters, \n",
        "                                    cv=5, \n",
        "                                    n_jobs=-1,\n",
        "                                    verbose=1)\n",
        "clf_grid.fit(X_train, y_train)"
      ],
      "id": "capital-scenario",
      "execution_count": null,
      "outputs": [
        {
          "output_type": "stream",
          "text": [
            "Fitting 5 folds for each of 54 candidates, totalling 270 fits\n"
          ],
          "name": "stdout"
        },
        {
          "output_type": "execute_result",
          "data": {
            "text/plain": [
              "GridSearchCV(cv=5, estimator=RandomForestRegressor(), n_jobs=-1,\n",
              "             param_grid={'criterion': ['mse', 'mae'],\n",
              "                         'max_features': ['auto', 'sqrt', 'log2'],\n",
              "                         'min_samples_leaf': [1, 2, 3],\n",
              "                         'n_estimators': [75, 100, 125]},\n",
              "             verbose=1)"
            ]
          },
          "metadata": {
            "tags": []
          },
          "execution_count": 79
        }
      ]
    },
    {
      "cell_type": "code",
      "metadata": {
        "id": "deluxe-stand",
        "outputId": "2c4fd59c-30fa-4a17-c2a3-761e59095e24"
      },
      "source": [
        "# Best parameters\n",
        "print(f\"The validation set accuracy - {clf_grid.score(X_validation, y_validation):.2%}\")\n",
        "print(f'Best score: {clf_grid.best_score_:.3f}')\n",
        "print(f'Best parameter set: {clf_grid.best_params_}')"
      ],
      "id": "deluxe-stand",
      "execution_count": null,
      "outputs": [
        {
          "output_type": "stream",
          "text": [
            "The validation set accuracy - 91.48%\n",
            "Best score: 0.922\n",
            "\n",
            "Best parameter set: {'criterion': 'mae', 'max_features': 'auto', 'min_samples_leaf': 1, 'n_estimators': 125}\n",
            "\n"
          ],
          "name": "stdout"
        }
      ]
    },
    {
      "cell_type": "code",
      "metadata": {
        "id": "danish-defendant",
        "outputId": "245a433c-9f28-4f93-8fbf-25e653e1714d"
      },
      "source": [
        "# Hyperparameter search - Extra Trees Forest\n",
        "clf_grid = GridSearchCV(ExtraTreesRegressor(), \n",
        "                                    hyperparameters, \n",
        "                                    cv=5, \n",
        "                                    n_jobs=-1,\n",
        "                                    verbose=1)\n",
        "clf_grid.fit(X_train, y_train)"
      ],
      "id": "danish-defendant",
      "execution_count": null,
      "outputs": [
        {
          "output_type": "stream",
          "text": [
            "Fitting 5 folds for each of 54 candidates, totalling 270 fits\n"
          ],
          "name": "stdout"
        },
        {
          "output_type": "execute_result",
          "data": {
            "text/plain": [
              "GridSearchCV(cv=5, estimator=ExtraTreesRegressor(), n_jobs=-1,\n",
              "             param_grid={'criterion': ['mse', 'mae'],\n",
              "                         'max_features': ['auto', 'sqrt', 'log2'],\n",
              "                         'min_samples_leaf': [1, 2, 3],\n",
              "                         'n_estimators': [75, 100, 125]},\n",
              "             verbose=1)"
            ]
          },
          "metadata": {
            "tags": []
          },
          "execution_count": 81
        }
      ]
    },
    {
      "cell_type": "code",
      "metadata": {
        "id": "surface-inventory",
        "outputId": "b4376aed-74c5-4cf8-8d7c-f6e3a48fd011"
      },
      "source": [
        "print(f\"The validation set accuracy - {clf_grid.score(X_validation, y_validation):.2%}\")\n",
        "print(f'Best score: {clf_grid.best_score_:.3f}')\n",
        "print(f'Best parameter set: {clf_grid.best_params_}')"
      ],
      "id": "surface-inventory",
      "execution_count": null,
      "outputs": [
        {
          "output_type": "stream",
          "text": [
            "The validation set accuracy - 91.92%\n",
            "Best score: 0.926\n",
            "Best parameter set: {'criterion': 'mae', 'max_features': 'auto', 'min_samples_leaf': 1, 'n_estimators': 75}\n"
          ],
          "name": "stdout"
        }
      ]
    },
    {
      "cell_type": "code",
      "metadata": {
        "id": "enabling-lighting",
        "outputId": "2c64450c-4cc6-4830-f638-10175a61af34"
      },
      "source": [
        "# Try RF\n",
        "num_columns = ['T_HR_AVG', 'T_MAX', 'T_MIN', 'P_CALC',\n",
        "       'SUR_TEMP', 'RH_HR_AVG', 'SOIL_MOISTURE_10', 'SOIL_MOISTURE_100',\n",
        "       'SOIL_TEMP_5', 'SOIL_TEMP_100']\n",
        "\n",
        "num_pipe = Pipeline([('quant', QuantileTransformer(output_distribution='normal'))])\n",
        "\n",
        "preprocessing = ColumnTransformer([('continuous',num_pipe, num_columns),\n",
        "                                   ], remainder='passthrough')\n",
        "\n",
        "\n",
        "pipe = Pipeline([('preprocessing', preprocessing), \n",
        "                 ('rf',   RandomForestRegressor(criterion='mae',n_estimators=125))])\n",
        "pipe.fit(X_train, y_train)\n",
        "y_pred = pipe.predict(X_validation)\n",
        "mae = mean_absolute_error(y_validation, y_pred)\n",
        "print(f\"{'RF':<17} - mean absolute error: {mae:,.2f}\")"
      ],
      "id": "enabling-lighting",
      "execution_count": null,
      "outputs": [
        {
          "output_type": "stream",
          "text": [
            "RF                - mean absolute error: 732.56\n"
          ],
          "name": "stdout"
        }
      ]
    },
    {
      "cell_type": "code",
      "metadata": {
        "id": "passing-islam",
        "outputId": "6b6b1d81-af05-45c0-9333-6d55c4d211ec"
      },
      "source": [
        "# Try ExtraTrees - Final Model\n",
        "num_columns = ['T_HR_AVG', 'T_MAX', 'T_MIN', 'P_CALC',\n",
        "       'SUR_TEMP', 'RH_HR_AVG', 'SOIL_MOISTURE_10', 'SOIL_MOISTURE_100',\n",
        "       'SOIL_TEMP_5', 'SOIL_TEMP_100']\n",
        "\n",
        "num_pipe = Pipeline([('quant', QuantileTransformer(output_distribution='normal'))])\n",
        "\n",
        "preprocessing = ColumnTransformer([('continuous',num_pipe, num_columns),\n",
        "                                   ], remainder='passthrough')\n",
        "\n",
        "\n",
        "pipe = Pipeline([('preprocessing', preprocessing), \n",
        "                 ('rf',   ExtraTreesRegressor(criterion='mae',n_estimators=75))])\n",
        "pipe.fit(X_train, y_train)\n",
        "y_pred = pipe.predict(X_validation)\n",
        "mae = mean_absolute_error(y_validation, y_pred)\n",
        "print(f\"{'RF':<17} - mean absolute error: {mae:,.2f}\")"
      ],
      "id": "passing-islam",
      "execution_count": null,
      "outputs": [
        {
          "output_type": "stream",
          "text": [
            "RF                - mean absolute error: 716.77\n"
          ],
          "name": "stdout"
        }
      ]
    },
    {
      "cell_type": "code",
      "metadata": {
        "id": "million-kitchen",
        "outputId": "8923de7f-7ad1-4689-a7e5-9eb23c83df3e"
      },
      "source": [
        "# Test Data\n",
        "pipe.fit(X_train_all, y_train_all)\n",
        "y_pred = pipe.predict(X_test)\n",
        "mae = mean_absolute_error(y_test, y_pred)\n",
        "print(f\"{'RF':<17} - mean absolute error: {mae:,.2f}\")"
      ],
      "id": "million-kitchen",
      "execution_count": null,
      "outputs": [
        {
          "output_type": "stream",
          "text": [
            "RF                - mean absolute error: 695.32\n"
          ],
          "name": "stdout"
        }
      ]
    },
    {
      "cell_type": "code",
      "metadata": {
        "id": "olympic-endorsement"
      },
      "source": [],
      "id": "olympic-endorsement",
      "execution_count": null,
      "outputs": []
    }
  ]
}